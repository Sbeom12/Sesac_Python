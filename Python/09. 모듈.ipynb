{
 "cells": [
  {
   "cell_type": "markdown",
   "id": "d07ae677-ac83-4e7a-9a78-8ddf77da5a3a",
   "metadata": {},
   "source": [
    "# 모듈\n",
    "* `import A` - A라는 모듈을 받아드리겠다.\n",
    "* `import A as B` - A라는 모듈를 B로 사용하는 방식으로 받아드리겠다.\n",
    "* `from A import C` - A라는 모듈에서 C라는 함수를 직접사용하겠다.\n",
    "* `from A import *` - A라는 모듈의 모든 함수를 직접 사용하겠다.\n",
    "* `from`과 같이 함수의 이름를 직접 사용하는 것은 다른의미의 함수가 있을 수 있으므로 추천하는 방법이 아니다.\n",
    "* 하지만 그 모듈만 가지고 있는 독특한 함수를 가지고 있으면, 사용해도 된다. 머신러닝 및 딥러닝에서는 LinearRegression과 같은 함수는 그냥 from으로 불러온다\n",
    "---"
   ]
  },
  {
   "cell_type": "markdown",
   "id": "cd82ab14-df28-4f8b-b412-6adb979430e3",
   "metadata": {},
   "source": [
    "## 모듈 기본 사용"
   ]
  },
  {
   "cell_type": "code",
   "execution_count": 4,
   "id": "ae50cb27-6974-48ec-a8f0-2a3215ada6e4",
   "metadata": {},
   "outputs": [],
   "source": [
    "# mod1를 외부에다 선언\n",
    "def add(x, y):\n",
    "    return x+y"
   ]
  },
  {
   "cell_type": "code",
   "execution_count": 5,
   "id": "c831a32e-76a7-4d1a-bed7-2fa859e97715",
   "metadata": {},
   "outputs": [
    {
     "data": {
      "text/plain": [
       "3"
      ]
     },
     "execution_count": 5,
     "metadata": {},
     "output_type": "execute_result"
    }
   ],
   "source": [
    "# method 1\n",
    "import mod1\n",
    "mod1.add(1,2)"
   ]
  },
  {
   "cell_type": "code",
   "execution_count": 7,
   "id": "93072548-09c0-4314-936b-c28b3cedfc3e",
   "metadata": {},
   "outputs": [
    {
     "data": {
      "text/plain": [
       "3"
      ]
     },
     "execution_count": 7,
     "metadata": {},
     "output_type": "execute_result"
    }
   ],
   "source": [
    "# method 2\n",
    "import mod1 as m\n",
    "m.add(1,2)"
   ]
  },
  {
   "cell_type": "code",
   "execution_count": 6,
   "id": "a0f00890-3091-4ff7-827f-d11eaa25a06d",
   "metadata": {},
   "outputs": [
    {
     "data": {
      "text/plain": [
       "3"
      ]
     },
     "execution_count": 6,
     "metadata": {},
     "output_type": "execute_result"
    }
   ],
   "source": [
    "# method 3\n",
    "from mod1 import add\n",
    "add(1,2)"
   ]
  },
  {
   "cell_type": "code",
   "execution_count": 8,
   "id": "c5418acc-28c7-4390-8323-30b07360a515",
   "metadata": {},
   "outputs": [
    {
     "data": {
      "text/plain": [
       "3"
      ]
     },
     "execution_count": 8,
     "metadata": {},
     "output_type": "execute_result"
    }
   ],
   "source": [
    "# method 4\n",
    "from mod1 import *\n",
    "add(1,2)"
   ]
  },
  {
   "cell_type": "code",
   "execution_count": 9,
   "id": "a3623a10-b1a4-4f21-9f73-eec71b9877ad",
   "metadata": {},
   "outputs": [
    {
     "ename": "AttributeError",
     "evalue": "module 'mod1' has no attribute 'ai'",
     "output_type": "error",
     "traceback": [
      "\u001b[1;31m---------------------------------------------------------------------------\u001b[0m",
      "\u001b[1;31mAttributeError\u001b[0m                            Traceback (most recent call last)",
      "Input \u001b[1;32mIn [9]\u001b[0m, in \u001b[0;36m<cell line: 3>\u001b[1;34m()\u001b[0m\n\u001b[0;32m      1\u001b[0m \u001b[38;5;66;03m# 해당 모듈에 없는 경우\u001b[39;00m\n\u001b[0;32m      2\u001b[0m \u001b[38;5;28;01mimport\u001b[39;00m \u001b[38;5;21;01mmod1\u001b[39;00m\n\u001b[1;32m----> 3\u001b[0m \u001b[43mmod1\u001b[49m\u001b[38;5;241;43m.\u001b[39;49m\u001b[43mai\u001b[49m\u001b[38;5;241m.\u001b[39mfunc\n",
      "\u001b[1;31mAttributeError\u001b[0m: module 'mod1' has no attribute 'ai'"
     ]
    }
   ],
   "source": [
    "# 해당 모듈에 없는 경우\n",
    "import mod1\n",
    "mod1.ai.func"
   ]
  },
  {
   "cell_type": "markdown",
   "id": "d9e92416-a8c0-4c77-854e-e73d45831bd0",
   "metadata": {},
   "source": [
    "# Print함수\n",
    "* `print('문자열', sep = '', end('\\n')`\n",
    "* `sep`은 중간 분리할때 사용하는 방식\n",
    "* `end`는 마지막에 어떤 값을 입력해주는지"
   ]
  },
  {
   "cell_type": "code",
   "execution_count": 10,
   "id": "0df3f638-56e2-4f4d-ac0a-e133e3e3dcf1",
   "metadata": {},
   "outputs": [
    {
     "name": "stdout",
     "output_type": "stream",
     "text": [
      "Hello World\n",
      "Hi Python\n"
     ]
    }
   ],
   "source": [
    "# 기본\n",
    "print('Hello', 'World')\n",
    "print('Hi', 'Python')"
   ]
  },
  {
   "cell_type": "code",
   "execution_count": 11,
   "id": "a72b4ebb-485b-4b5c-9f61-5775ec544c29",
   "metadata": {},
   "outputs": [
    {
     "name": "stdout",
     "output_type": "stream",
     "text": [
      "Hello/World\n",
      "Hi Python*"
     ]
    }
   ],
   "source": [
    "# sep, end\n",
    "print('Hello', 'World', sep = '/') \n",
    "print('Hi', 'Python', end = '*')   "
   ]
  },
  {
   "cell_type": "markdown",
   "id": "ef00b61c-ae87-43f6-8443-e013bfad93fc",
   "metadata": {},
   "source": [
    "## Format 형식\n",
    "* `print('{},{}').format(value1, value2))`\n",
    "* `{}` 안에 값을 넣어서 순서 지정도 가능."
   ]
  },
  {
   "cell_type": "markdown",
   "id": "31595990-86ff-4cd4-995d-53b0f8f0891d",
   "metadata": {},
   "source": [
    "### 문자"
   ]
  },
  {
   "cell_type": "code",
   "execution_count": 13,
   "id": "9ef66751-311c-4cbc-b2f0-e993150001eb",
   "metadata": {},
   "outputs": [
    {
     "name": "stdout",
     "output_type": "stream",
     "text": [
      "This is apple, That is banana\n",
      "This is banana, That is apple\n",
      "This is apple. That it banana\n",
      "This is apple, That is banana\n"
     ]
    }
   ],
   "source": [
    "# 기본\n",
    "print('This is {}, That is {}'.format('apple', 'banana'))\n",
    "# 순서 지정\n",
    "print('This is {1}, That is {0}'.format('apple', 'banana'))\n",
    "# 변수 사용 1\n",
    "a, b = 'apple', 'banana'\n",
    "print('This is {}. That it {}'.format(a, b))\n",
    "# 변수 사용 2\n",
    "print('This is {fruit1}, That is {fruit2}'.format(fruit1= 'apple', fruit2 = 'banana'))"
   ]
  },
  {
   "cell_type": "markdown",
   "id": "318b8091-2c67-4d46-84e4-bfd541ac5787",
   "metadata": {},
   "source": [
    "### 숫자"
   ]
  },
  {
   "cell_type": "code",
   "execution_count": 14,
   "id": "fb17f5f9-ce3b-4379-982e-118c107bf934",
   "metadata": {},
   "outputs": [
    {
     "name": "stdout",
     "output_type": "stream",
     "text": [
      "This is 123.457\n"
     ]
    }
   ],
   "source": [
    "# 반올림 해서 3자리까지 출력\n",
    "print('This is {:0.3f}'.format(123.456789)) "
   ]
  },
  {
   "cell_type": "code",
   "execution_count": 15,
   "id": "84952357-815a-4a54-bd5c-f4d8291bd5d9",
   "metadata": {},
   "outputs": [
    {
     "name": "stdout",
     "output_type": "stream",
     "text": [
      "This is 123.4567800000\n"
     ]
    }
   ],
   "source": [
    "# {0:0.10f} 콜론 앞에 0을 붙여서 0이 출력됨.\n",
    "print('This is {0:0.10f}'.format(123.45678)) "
   ]
  },
  {
   "cell_type": "code",
   "execution_count": 16,
   "id": "6bf2e42e-f3b0-47ea-9d1c-083d0b762848",
   "metadata": {},
   "outputs": [
    {
     "name": "stdout",
     "output_type": "stream",
     "text": [
      "This is 012\n",
      "This is  12\n"
     ]
    }
   ],
   "source": [
    "# 정수 출력\n",
    "# {:03d} == 세 자리로 채워라 자리수를 맞추지 않으면 맨 앞에 0을 넣는다.\n",
    "print('This is {:03d}'.format(12))\n",
    "print('This is {:3d}'.format(12))"
   ]
  },
  {
   "cell_type": "code",
   "execution_count": 17,
   "id": "6a83838b-9062-4d1e-801d-778714fafb7c",
   "metadata": {},
   "outputs": [
    {
     "name": "stdout",
     "output_type": "stream",
     "text": [
      "This is 1234\n"
     ]
    }
   ],
   "source": [
    "# 정수 출력\n",
    "# {0:03d} 콜론 앞에 0은 생략하기도 함.(자리수가 맞기 때문)\n",
    "print('This is {0:03d}'.format(1234))"
   ]
  },
  {
   "cell_type": "markdown",
   "id": "ed93e2c4-ccee-4c90-9dca-1c56b9ca3b3b",
   "metadata": {},
   "source": [
    "## 포맷팅\n",
    "* `f'{}'`\n",
    "* %s : 문자열\n",
    "* %d : 정수\n",
    "* %f : 실수\n",
    "* %o : 8진수\n",
    "* %x : 16진수"
   ]
  },
  {
   "cell_type": "code",
   "execution_count": 18,
   "id": "7640cc40-e834-46ed-bfba-f69eed43a311",
   "metadata": {},
   "outputs": [
    {
     "name": "stdout",
     "output_type": "stream",
     "text": [
      "this is apple. That is banana.\n",
      "this is apple. That is banana.\n",
      "this is apple. That is banana.\n"
     ]
    }
   ],
   "source": [
    "# 제일 앞에 f는 format 했다는 의미\n",
    "# 빼도 되지만 포맷팅이란 걸 알려주기 위해서 맨 앞에 쓰는 것!\n",
    "print('this is %s. That is %s.'%('apple', 'banana'))\n",
    "print(f'this is %s. That is %s.'%('apple', 'banana'))\n",
    "# 변수 이용\n",
    "a, b = 'apple', 'banana'\n",
    "print(f'this is {a}. That is {b}.')"
   ]
  },
  {
   "cell_type": "code",
   "execution_count": 19,
   "id": "b2a41d8d-e1c8-4c1d-96a0-1b7e23486795",
   "metadata": {},
   "outputs": [
    {
     "name": "stdout",
     "output_type": "stream",
     "text": [
      "The value is 1\n"
     ]
    }
   ],
   "source": [
    "# 정수 출력\n",
    "print(f'The value is %d' %1)"
   ]
  },
  {
   "cell_type": "code",
   "execution_count": 20,
   "id": "890aaaf6-97d3-4288-9ec4-59b328f6e4ce",
   "metadata": {},
   "outputs": [
    {
     "name": "stdout",
     "output_type": "stream",
     "text": [
      "The value is     1\n",
      "The value is 00001\n"
     ]
    }
   ],
   "source": [
    "# 정수 출력 - 자릿수 조절\n",
    "print(f'The value is %5d' %1)\n",
    "print(f'The value is %05d' %1)"
   ]
  },
  {
   "cell_type": "code",
   "execution_count": 21,
   "id": "15b5c4be-5a1b-4c0c-8a65-2d6a902e77a2",
   "metadata": {},
   "outputs": [
    {
     "name": "stdout",
     "output_type": "stream",
     "text": [
      "2 X 1 =  2\n",
      "2 X 2 =  4\n",
      "2 X 3 =  6\n",
      "2 X 4 =  8\n",
      "2 X 5 = 10\n",
      "2 X 6 = 12\n",
      "2 X 7 = 14\n",
      "2 X 8 = 16\n",
      "2 X 9 = 18\n",
      "3 X 1 =  3\n",
      "3 X 2 =  6\n",
      "3 X 3 =  9\n",
      "3 X 4 = 12\n",
      "3 X 5 = 15\n",
      "3 X 6 = 18\n",
      "3 X 7 = 21\n",
      "3 X 8 = 24\n",
      "3 X 9 = 27\n",
      "4 X 1 =  4\n",
      "4 X 2 =  8\n",
      "4 X 3 = 12\n",
      "4 X 4 = 16\n",
      "4 X 5 = 20\n",
      "4 X 6 = 24\n",
      "4 X 7 = 28\n",
      "4 X 8 = 32\n",
      "4 X 9 = 36\n",
      "5 X 1 =  5\n",
      "5 X 2 = 10\n",
      "5 X 3 = 15\n",
      "5 X 4 = 20\n",
      "5 X 5 = 25\n",
      "5 X 6 = 30\n",
      "5 X 7 = 35\n",
      "5 X 8 = 40\n",
      "5 X 9 = 45\n",
      "6 X 1 =  6\n",
      "6 X 2 = 12\n",
      "6 X 3 = 18\n",
      "6 X 4 = 24\n",
      "6 X 5 = 30\n",
      "6 X 6 = 36\n",
      "6 X 7 = 42\n",
      "6 X 8 = 48\n",
      "6 X 9 = 54\n",
      "7 X 1 =  7\n",
      "7 X 2 = 14\n",
      "7 X 3 = 21\n",
      "7 X 4 = 28\n",
      "7 X 5 = 35\n",
      "7 X 6 = 42\n",
      "7 X 7 = 49\n",
      "7 X 8 = 56\n",
      "7 X 9 = 63\n",
      "8 X 1 =  8\n",
      "8 X 2 = 16\n",
      "8 X 3 = 24\n",
      "8 X 4 = 32\n",
      "8 X 5 = 40\n",
      "8 X 6 = 48\n",
      "8 X 7 = 56\n",
      "8 X 8 = 64\n",
      "8 X 9 = 72\n",
      "9 X 1 =  9\n",
      "9 X 2 = 18\n",
      "9 X 3 = 27\n",
      "9 X 4 = 36\n",
      "9 X 5 = 45\n",
      "9 X 6 = 54\n",
      "9 X 7 = 63\n",
      "9 X 8 = 72\n",
      "9 X 9 = 81\n"
     ]
    }
   ],
   "source": [
    "# 구구단\n",
    "for i in range(2,10) :\n",
    "    for j in range(1,10) :\n",
    "        print(f'{i} X {j} = {i*j:2d}') # %2d를 씀으로써 2자리로 만들라는 소리로 앞에 공백이 들어감"
   ]
  },
  {
   "cell_type": "code",
   "execution_count": 22,
   "id": "4de27eee-2557-4abe-93bc-4ca73ed2c522",
   "metadata": {},
   "outputs": [
    {
     "name": "stdout",
     "output_type": "stream",
     "text": [
      "The value is 123.457\n",
      "The value is 123.457\n"
     ]
    }
   ],
   "source": [
    "# 소수 출력\n",
    "print(f'The value is %.3f'%123.456789)\n",
    "print(f'The value is {123.4567:.3f}')"
   ]
  },
  {
   "cell_type": "markdown",
   "id": "ba804642-c113-409c-9428-1948235e0184",
   "metadata": {},
   "source": [
    "## 2, 8, 10, 16진수\n",
    "* 2진수 : 0 or 1  \n",
    "* 8진수 : 0 ~ 7  \n",
    "* 10진수 : 0 ~ 9  \n",
    "* 16진수 : 0 ~ f   \n",
    "    * 0 ~  f   - 16진수 \n",
    "    * 0 ~ 1111 - 2진수로 사용\n",
    "---\n",
    "|진수|0|1|2|3|4|5|6|7|\n",
    "|:---|:-:|:-:|:-:|:-:|:-:|:-:|:-:|:-:|\n",
    "|2진수 | 0 | 1 | 10 | 11 | 100 | 101 | 110 | 111 |  \n",
    "|10진수| 0 | 1 | 2 | 3 | 4 | 5 | 6 | 7 |  \n",
    "\n",
    "|진수|0|1|2|3|4|5|6|7|8|9|10|11|12|13|14|15|16|17|\n",
    "|:---|:-:|:-:|:-:|:-:|:-:|:-:|:-:|:-:|:-:|:-:|:-:|:-:|:-:|:-:|:-:|:-:|:-:|:-:|\n",
    "|8진수 | 0 | 1 | 2 | 3 | 4 | 5 | 6 | 7 | 10 | 11 | 12 | 13 | 14 | 15 | 16 | 17 | 20 |\n",
    "|10진수| 0 | 1 | 2 | 3 | 4 | 5 | 6 | 7 | 8 | 9 | 10 | 11 | 12 | 13 | 14 | 15 | 16 | 17 |  \n",
    "|16진수| 0 | 1 | 2 | 3 | 4 | 5 | 6 | 7 | 8 | 9 | a | b | c | d | e | f | 10 | 11 |"
   ]
  },
  {
   "cell_type": "code",
   "execution_count": 23,
   "id": "ef5f9aa1-f6fe-4769-82dc-2c07cab60ef0",
   "metadata": {},
   "outputs": [
    {
     "name": "stdout",
     "output_type": "stream",
     "text": [
      "The value is 0\n",
      "The value is 1\n",
      "The value is 2\n",
      "The value is 3\n",
      "The value is 4\n",
      "The value is 5\n",
      "The value is 6\n",
      "The value is 7\n",
      "The value is 10\n",
      "The value is 11\n"
     ]
    }
   ],
   "source": [
    "# 8진수 출력\n",
    "for i in range(10) :\n",
    "    print(f'The value is %o'%i) "
   ]
  },
  {
   "cell_type": "code",
   "execution_count": 24,
   "id": "d20c0d37-156f-45ff-8144-4efcb0156d69",
   "metadata": {},
   "outputs": [
    {
     "name": "stdout",
     "output_type": "stream",
     "text": [
      "The value is 0\n",
      "The value is 1\n",
      "The value is 2\n",
      "The value is 3\n",
      "The value is 4\n",
      "The value is 5\n",
      "The value is 6\n",
      "The value is 7\n",
      "The value is 8\n",
      "The value is 9\n",
      "The value is a\n",
      "The value is b\n",
      "The value is c\n",
      "The value is d\n",
      "The value is e\n",
      "The value is f\n",
      "The value is 10\n",
      "The value is 11\n"
     ]
    }
   ],
   "source": [
    "# 16진수 출력\n",
    "for i in range(18) :\n",
    "    print(f'The value is %x'%i) "
   ]
  },
  {
   "cell_type": "code",
   "execution_count": 25,
   "id": "261d3c14-bcf6-4384-a211-7ca6f82366d4",
   "metadata": {},
   "outputs": [
    {
     "data": {
      "text/plain": [
       "0.30000000000000004"
      ]
     },
     "execution_count": 25,
     "metadata": {},
     "output_type": "execute_result"
    }
   ],
   "source": [
    "# 부동 소수점\n",
    "# 파이썬은 생각보다 계산에 대해서 오차가 발생함.\n",
    "0.1+0.1+0.1"
   ]
  }
 ],
 "metadata": {
  "kernelspec": {
   "display_name": "Python 3 (ipykernel)",
   "language": "python",
   "name": "python3"
  },
  "language_info": {
   "codemirror_mode": {
    "name": "ipython",
    "version": 3
   },
   "file_extension": ".py",
   "mimetype": "text/x-python",
   "name": "python",
   "nbconvert_exporter": "python",
   "pygments_lexer": "ipython3",
   "version": "3.9.12"
  }
 },
 "nbformat": 4,
 "nbformat_minor": 5
}
