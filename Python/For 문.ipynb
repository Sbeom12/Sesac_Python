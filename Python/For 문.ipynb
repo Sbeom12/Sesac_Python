{
 "cells": [
  {
   "cell_type": "markdown",
   "id": "c68b5f88-ffba-4a4f-b75c-05dbe57b669f",
   "metadata": {},
   "source": [
    "# 반복문\n",
    "---"
   ]
  },
  {
   "cell_type": "markdown",
   "id": "529e7597-bdce-4fc4-8655-91eac4c2a926",
   "metadata": {},
   "source": [
    "## Range 함수 이용\n",
    "* range(a) 0에서 a까지 a는 포함X\n",
    "* range(a, b) a에서 b까지 b는 포함x\n",
    "* range(a, b, c) a에서 b까지 c의 간격으로\n",
    "* range(a, b, -1) b에서 a까지 b는 포함X"
   ]
  },
  {
   "cell_type": "code",
   "execution_count": 1,
   "id": "436779f6-78e0-43fb-96b4-fbe74877856d",
   "metadata": {},
   "outputs": [
    {
     "data": {
      "text/plain": [
       "[0, 1]"
      ]
     },
     "execution_count": 1,
     "metadata": {},
     "output_type": "execute_result"
    }
   ],
   "source": [
    "list(range(2))"
   ]
  },
  {
   "cell_type": "code",
   "execution_count": 2,
   "id": "ca78b3f0-ad09-45d2-96f1-cd348f00a387",
   "metadata": {},
   "outputs": [
    {
     "data": {
      "text/plain": [
       "[1, 2, 3, 4]"
      ]
     },
     "execution_count": 2,
     "metadata": {},
     "output_type": "execute_result"
    }
   ],
   "source": [
    "list(range(1, 5))"
   ]
  },
  {
   "cell_type": "code",
   "execution_count": 3,
   "id": "88539402-8630-438c-9460-69295b7b6a15",
   "metadata": {},
   "outputs": [
    {
     "data": {
      "text/plain": [
       "[1, 3, 5, 7, 9]"
      ]
     },
     "execution_count": 3,
     "metadata": {},
     "output_type": "execute_result"
    }
   ],
   "source": [
    "list(range(1, 10, 2))"
   ]
  },
  {
   "cell_type": "code",
   "execution_count": 4,
   "id": "2f589ee7-79c5-4f4e-b0fd-1216111e29b8",
   "metadata": {},
   "outputs": [
    {
     "data": {
      "text/plain": [
       "[10, 9, 8, 7, 6, 5, 4, 3, 2]"
      ]
     },
     "execution_count": 4,
     "metadata": {},
     "output_type": "execute_result"
    }
   ],
   "source": [
    "list(range(10, 1, -1))"
   ]
  },
  {
   "cell_type": "markdown",
   "id": "6e89a0a0-a84e-461c-a9a9-680ef63c9fb8",
   "metadata": {},
   "source": [
    "## for문\n",
    "* range함수 이용\n",
    "* list 이용\n",
    "* tuple 이용\n",
    "* 문자열 가능\n",
    "* etc"
   ]
  },
  {
   "cell_type": "code",
   "execution_count": 5,
   "id": "62bd7c9e-3d6f-4600-a2cb-530aa9ded51a",
   "metadata": {},
   "outputs": [
    {
     "name": "stdout",
     "output_type": "stream",
     "text": [
      "0\n",
      "1\n",
      "2\n",
      "3\n"
     ]
    }
   ],
   "source": [
    "# range\n",
    "for i in range(4):\n",
    "    print(i)"
   ]
  },
  {
   "cell_type": "code",
   "execution_count": 6,
   "id": "c1ea1de2-c772-4691-a2aa-bec7306bd4dc",
   "metadata": {},
   "outputs": [
    {
     "name": "stdout",
     "output_type": "stream",
     "text": [
      "0\n",
      "1\n",
      "2\n",
      "3\n",
      "4\n"
     ]
    }
   ],
   "source": [
    "# list \n",
    "for i in [0,1,2,3,4]:\n",
    "    print(i)"
   ]
  },
  {
   "cell_type": "code",
   "execution_count": 7,
   "id": "1e3678dc-4a05-46d3-8dc9-3fe7614ac090",
   "metadata": {},
   "outputs": [
    {
     "name": "stdout",
     "output_type": "stream",
     "text": [
      "1\n",
      "2\n",
      "3\n",
      "4\n"
     ]
    }
   ],
   "source": [
    "# tuple\n",
    "for i in (1,2,3,4):\n",
    "    print(i)"
   ]
  },
  {
   "cell_type": "code",
   "execution_count": 8,
   "id": "d546025f-0afa-4960-91f4-c975d33f1c18",
   "metadata": {},
   "outputs": [
    {
     "name": "stdout",
     "output_type": "stream",
     "text": [
      "a\n",
      "b\n",
      "c\n",
      "d\n",
      "e\n"
     ]
    }
   ],
   "source": [
    "# 문자열\n",
    "for i in 'abcde':\n",
    "    print(i)"
   ]
  },
  {
   "cell_type": "markdown",
   "id": "0ed3a763-30e8-4b03-84ba-26851b6493a7",
   "metadata": {},
   "source": [
    "## Quiz"
   ]
  },
  {
   "cell_type": "code",
   "execution_count": 9,
   "id": "937cff91-637b-4217-ab98-af654a199097",
   "metadata": {},
   "outputs": [
    {
     "name": "stdout",
     "output_type": "stream",
     "text": [
      "Male\n",
      "Male\n",
      "Female\n",
      "Female\n",
      "Female\n"
     ]
    }
   ],
   "source": [
    "# 예시 1\n",
    "gender_list = [0,0,1,1,1]\n",
    "\n",
    "for gender in gender_list:\n",
    "    if gender == 1:\n",
    "        print(\"Female\")\n",
    "    elif gender == 0:\n",
    "        print(\"Male\")"
   ]
  },
  {
   "cell_type": "code",
   "execution_count": 10,
   "id": "2df5e6b4-6415-4baa-89b3-f3af4e92c06f",
   "metadata": {},
   "outputs": [
    {
     "name": "stdout",
     "output_type": "stream",
     "text": [
      "1번째 : Male\n",
      "2번째 : Male\n",
      "3번째: Female\n",
      "4번째: Female\n",
      "5번째: Female\n"
     ]
    }
   ],
   "source": [
    "# 번호 뽑기\n",
    "i = 1\n",
    "for gender in gender_list:\n",
    "    if gender == 1:\n",
    "        print(f'{i}번째: Female')\n",
    "    if gender == 0:\n",
    "        print('{}번째 : Male'.format(i))\n",
    "    i += 1"
   ]
  },
  {
   "cell_type": "markdown",
   "id": "d5994396-8795-4fe9-81dc-d4ea644423d7",
   "metadata": {},
   "source": [
    "## enumerate 함수\n",
    "* `enumertate(a, b)`\n",
    "* (index, objext) 튜플로 결과 반환.\n",
    "* a에 list, tuple 등 가능\n",
    "* b는 `start` 옵션으로 index의 번호가 언제부터 시작하는지를 결정\n",
    "* b에 값을 입력하지 않으면 0으로 기본 설정"
   ]
  },
  {
   "cell_type": "code",
   "execution_count": 11,
   "id": "61142a7c-31f7-413b-a07f-5e3d2f4ddf57",
   "metadata": {},
   "outputs": [
    {
     "name": "stdout",
     "output_type": "stream",
     "text": [
      "(0, 'A')\n",
      "(1, 'B')\n",
      "(2, 'C')\n"
     ]
    }
   ],
   "source": [
    "for entry in enumerate(['A', 'B', 'C']):\n",
    "    print(entry)"
   ]
  },
  {
   "cell_type": "code",
   "execution_count": 12,
   "id": "4b5a5256-c9eb-4f65-81db-c49792cf8912",
   "metadata": {},
   "outputs": [
    {
     "name": "stdout",
     "output_type": "stream",
     "text": [
      "1 번째는 남성입니다.\n",
      "2 번째는 남성입니다.\n",
      "3 번째는 여성입니다.\n",
      "4 번째는 여성입니다.\n",
      "5 번째는 여성입니다.\n"
     ]
    }
   ],
   "source": [
    "# 번호 뽑기 sol2 \n",
    "gender_list = [0,0,1,1,1]\n",
    "\n",
    "for index, gender in enumerate(gender_list, start=1):\n",
    "    if gender == 1:\n",
    "        print(index, \"번째는 여성입니다.\")\n",
    "    elif gender == 0:\n",
    "        print(index, \"번째는 남성입니다.\")"
   ]
  },
  {
   "cell_type": "code",
   "execution_count": 13,
   "id": "68c8a11c-0176-4b3e-b92c-586093582d01",
   "metadata": {},
   "outputs": [
    {
     "name": "stdout",
     "output_type": "stream",
     "text": [
      "홀 합 : 2500\n",
      "짝 합 : 2550\n",
      "총 합 : 5050\n"
     ]
    }
   ],
   "source": [
    "# 1부터 100까지의 합 구하기 (홀/짝 합도 구하기)\n",
    "total_sum = 0\n",
    "odd_sum = 0\n",
    "even_sum = 0\n",
    "for i in range(1,101):\n",
    "    if i%2 == 1:\n",
    "        odd_sum = odd_sum + i\n",
    "    elif i%2 == 0:\n",
    "        even_sum = even_sum + i\n",
    "    total_sum = total_sum + i\n",
    "    \n",
    "print(f'홀 합 : {odd_sum}')\n",
    "print(f'짝 합 : {even_sum}')\n",
    "print(f'총 합 : {total_sum}')"
   ]
  },
  {
   "cell_type": "markdown",
   "id": "1b26e606-428c-48db-aab5-f8a08b209fae",
   "metadata": {},
   "source": [
    "## 별 찍기"
   ]
  },
  {
   "cell_type": "code",
   "execution_count": 14,
   "id": "ef2fb105-c801-4616-98b7-32e833b305c5",
   "metadata": {},
   "outputs": [
    {
     "name": "stdin",
     "output_type": "stream",
     "text": [
      "층수 입력 :  11\n"
     ]
    },
    {
     "name": "stdout",
     "output_type": "stream",
     "text": [
      "*\n",
      "**\n",
      "***\n",
      "****\n",
      "*****\n",
      "******\n",
      "*******\n",
      "********\n",
      "*********\n",
      "**********\n",
      "***********\n"
     ]
    }
   ],
   "source": [
    "# 층수를 입력해서 점점 크게\n",
    "height = int(input('층수 입력 : '))\n",
    "for i in range(1, height+1):\n",
    "    print('*'*i)"
   ]
  },
  {
   "cell_type": "code",
   "execution_count": 15,
   "id": "30e11d67-f59e-4990-b891-eabf7572d8ff",
   "metadata": {},
   "outputs": [
    {
     "name": "stdin",
     "output_type": "stream",
     "text": [
      "층수 입력 :  5\n"
     ]
    },
    {
     "name": "stdout",
     "output_type": "stream",
     "text": [
      "*****\n",
      "****\n",
      "***\n",
      "**\n",
      "*\n"
     ]
    }
   ],
   "source": [
    "# 층수를 입력해서 점점 작게\n",
    "height = int(input('층수 입력 : '))\n",
    "for i in range(height, 0, -1):\n",
    "    print('*'*i)"
   ]
  },
  {
   "cell_type": "code",
   "execution_count": 16,
   "id": "5153ebb8-db5e-463b-862e-3f5dc2b55980",
   "metadata": {},
   "outputs": [
    {
     "name": "stdin",
     "output_type": "stream",
     "text": [
      "층수 입력 :  2\n"
     ]
    },
    {
     "name": "stdout",
     "output_type": "stream",
     "text": [
      "**\n",
      " *\n"
     ]
    }
   ],
   "source": [
    "# 층수를 입력해서 점점 작게 좌우 반전\n",
    "height = int(input('층수 입력 : '))\n",
    "for i in range(height, 0, -1):\n",
    "    print(\" \"*(height - i) + \"*\"*(i))"
   ]
  },
  {
   "cell_type": "code",
   "execution_count": 17,
   "id": "449d79b7-dcd8-4903-b04b-9306850c7a6c",
   "metadata": {},
   "outputs": [
    {
     "name": "stdin",
     "output_type": "stream",
     "text": [
      "층수 입력:  4\n"
     ]
    },
    {
     "name": "stdout",
     "output_type": "stream",
     "text": [
      "   *\n",
      "  ***\n",
      " *****\n",
      "*******\n"
     ]
    }
   ],
   "source": [
    "# 층수를 입력해서 좌우 대칭으로 입력\n",
    "height = int(input('층수 입력: '))\n",
    "for i in range(1, height*2, 2):\n",
    "    print(\" \"*((height*2-i)//2) + '*'*i)"
   ]
  },
  {
   "cell_type": "code",
   "execution_count": 18,
   "id": "b2d23e0a-7a79-4c90-bb01-2f5ed3a22a20",
   "metadata": {},
   "outputs": [
    {
     "name": "stdin",
     "output_type": "stream",
     "text": [
      "홀수 층 입력:  3\n"
     ]
    },
    {
     "name": "stdout",
     "output_type": "stream",
     "text": [
      " *\n",
      "***\n",
      " *\n"
     ]
    }
   ],
   "source": [
    "# 홀수 층수를 입력해서 좌우 대칭 + 상하 대칭 \n",
    "height = int(input('홀수 층 입력: '))\n",
    "for i in range(1, height*2, 2):\n",
    "    if i <= height:\n",
    "        print(\" \"*(((height*2-i)-height)//2) + '*'*i)\n",
    "    elif i > height:\n",
    "        print(\" \" *((i- height)//2) + '*'*(height*2-i))"
   ]
  },
  {
   "cell_type": "markdown",
   "id": "bdfaca04-45f8-4919-9758-43830797b73d",
   "metadata": {},
   "source": [
    "## 이중 for문"
   ]
  },
  {
   "cell_type": "code",
   "execution_count": 19,
   "id": "cc110cab-5064-4847-a6c5-4addf4eb9206",
   "metadata": {},
   "outputs": [
    {
     "name": "stdout",
     "output_type": "stream",
     "text": [
      "2 단\n",
      "2 x 1 = 2\n",
      "2 x 2 = 4\n",
      "2 x 3 = 6\n",
      "2 x 4 = 8\n",
      "2 x 5 = 10\n",
      "2 x 6 = 12\n",
      "2 x 7 = 14\n",
      "2 x 8 = 16\n",
      "2 x 9 = 18\n",
      "3 단\n",
      "3 x 1 = 3\n",
      "3 x 2 = 6\n",
      "3 x 3 = 9\n",
      "3 x 4 = 12\n",
      "3 x 5 = 15\n",
      "3 x 6 = 18\n",
      "3 x 7 = 21\n",
      "3 x 8 = 24\n",
      "3 x 9 = 27\n",
      "4 단\n",
      "4 x 1 = 4\n",
      "4 x 2 = 8\n",
      "4 x 3 = 12\n",
      "4 x 4 = 16\n",
      "4 x 5 = 20\n",
      "4 x 6 = 24\n",
      "4 x 7 = 28\n",
      "4 x 8 = 32\n",
      "4 x 9 = 36\n",
      "5 단\n",
      "5 x 1 = 5\n",
      "5 x 2 = 10\n",
      "5 x 3 = 15\n",
      "5 x 4 = 20\n",
      "5 x 5 = 25\n",
      "5 x 6 = 30\n",
      "5 x 7 = 35\n",
      "5 x 8 = 40\n",
      "5 x 9 = 45\n",
      "6 단\n",
      "6 x 1 = 6\n",
      "6 x 2 = 12\n",
      "6 x 3 = 18\n",
      "6 x 4 = 24\n",
      "6 x 5 = 30\n",
      "6 x 6 = 36\n",
      "6 x 7 = 42\n",
      "6 x 8 = 48\n",
      "6 x 9 = 54\n",
      "7 단\n",
      "7 x 1 = 7\n",
      "7 x 2 = 14\n",
      "7 x 3 = 21\n",
      "7 x 4 = 28\n",
      "7 x 5 = 35\n",
      "7 x 6 = 42\n",
      "7 x 7 = 49\n",
      "7 x 8 = 56\n",
      "7 x 9 = 63\n",
      "8 단\n",
      "8 x 1 = 8\n",
      "8 x 2 = 16\n",
      "8 x 3 = 24\n",
      "8 x 4 = 32\n",
      "8 x 5 = 40\n",
      "8 x 6 = 48\n",
      "8 x 7 = 56\n",
      "8 x 8 = 64\n",
      "8 x 9 = 72\n",
      "9 단\n",
      "9 x 1 = 9\n",
      "9 x 2 = 18\n",
      "9 x 3 = 27\n",
      "9 x 4 = 36\n",
      "9 x 5 = 45\n",
      "9 x 6 = 54\n",
      "9 x 7 = 63\n",
      "9 x 8 = 72\n",
      "9 x 9 = 81\n"
     ]
    }
   ],
   "source": [
    "# 구구단 출력\n",
    "for dan in range(2, 10):\n",
    "    print(dan, '단')\n",
    "    for i in range(1, 10):\n",
    "        print(f'{dan} x {i} = {dan * i}')\n",
    "    "
   ]
  },
  {
   "cell_type": "markdown",
   "id": "ea66da28-747e-42c2-be4f-d185c1861944",
   "metadata": {},
   "source": [
    "## Quiz\n",
    "1. for문을 이용하여 recevied_list에서 allowed_list에 존재하는 않는 목록을 뽑아 spam_mail 이라는 리스트를 만드는 코드를 구현\n",
    "received_list = ['tom', 'jenny', 'kyle', 'young', 'tami']\n",
    "allowed_list = ['kyle', 'tami', 'json']\n",
    "2. for문을 이용하여 word_list에서 단어가 7글자 이상이면 모두 대문자로, 7글자 미만이면 모두 소문자로 출력하는 코드를 구현\n",
    "word_list = ['culture','symbol','effect','experience','affair']\n",
    "3. 구구단 3단 중 결과가 홀수인 결과만 출력하는 코드를 구현\n",
    "4. 다음 2차원 리스트의 모든 요소를 출력하는 코드를 구현\n",
    "matrix=[[1,2,3],[4,5,6],[7,8,9],[10,11,12]]"
   ]
  },
  {
   "cell_type": "code",
   "execution_count": 20,
   "id": "63d7118e-e587-4ee9-a38c-1e9dc283fa6f",
   "metadata": {},
   "outputs": [
    {
     "name": "stdout",
     "output_type": "stream",
     "text": [
      "['tom', 'jenny', 'young']\n"
     ]
    }
   ],
   "source": [
    "# Q1\n",
    "received_list = ['tom', 'jenny', 'kyle', 'young', 'tami']\n",
    "allowed_list = ['kyle', 'tami', 'json']\n",
    "spam_list = []\n",
    "for name in received_list:\n",
    "    if name in allowed_list:\n",
    "        pass\n",
    "    else:\n",
    "        spam_list.append(name)\n",
    "print(spam_list)"
   ]
  },
  {
   "cell_type": "code",
   "execution_count": 21,
   "id": "252886c6-4b10-41e7-a509-55c5f6bd02f1",
   "metadata": {},
   "outputs": [
    {
     "name": "stdout",
     "output_type": "stream",
     "text": [
      "CULTURE\n",
      "symbol\n",
      "effect\n",
      "EXPERIENCE\n",
      "affair\n"
     ]
    }
   ],
   "source": [
    "# Q2\n",
    "word_list = ['culture','symbol','effect','experience','affair']\n",
    "for name in word_list:\n",
    "    if len(name) >= 7:\n",
    "        print(name.upper())\n",
    "    else:\n",
    "        print(name.lower())"
   ]
  },
  {
   "cell_type": "code",
   "execution_count": 22,
   "id": "d7a5a225-2257-43aa-b42b-9afb0d88a121",
   "metadata": {},
   "outputs": [
    {
     "name": "stdout",
     "output_type": "stream",
     "text": [
      "3  X  1  =  3\n",
      "3  X  3  =  9\n",
      "3  X  5  =  15\n",
      "3  X  7  =  21\n",
      "3  X  9  =  27\n"
     ]
    }
   ],
   "source": [
    "# Q3\n",
    "for i in range(1, 10):\n",
    "    if i%2 == 1:\n",
    "        print(3,\" X \",i,\" = \",3*i)"
   ]
  },
  {
   "cell_type": "code",
   "execution_count": 23,
   "id": "d3d2dd05-fe16-4d29-8d52-4b5e1534c3c9",
   "metadata": {},
   "outputs": [
    {
     "name": "stdout",
     "output_type": "stream",
     "text": [
      "1\n",
      "2\n",
      "3\n",
      "4\n",
      "5\n",
      "6\n",
      "7\n",
      "8\n",
      "9\n",
      "10\n",
      "11\n",
      "12\n"
     ]
    }
   ],
   "source": [
    "# Q4\n",
    "matrix=[[1,2,3],[4,5,6],[7,8,9],[10,11,12]]\n",
    "for index, value in enumerate(matrix):\n",
    "    for i in matrix[index]:\n",
    "        print(i)"
   ]
  },
  {
   "cell_type": "markdown",
   "id": "471dc859-77f5-467d-9d82-a6dea7a5c429",
   "metadata": {},
   "source": [
    "## While\n",
    "* for에 배해서 선호 되지 않음.\n",
    "* `While(조건)` 조건이 참일때까지 실행\n",
    "* `While(True)`를 이용해서 무한 반복이 사용이 가능\n",
    "* 비추"
   ]
  },
  {
   "cell_type": "code",
   "execution_count": 24,
   "id": "31685162-cf11-4680-b68b-6d57028ab597",
   "metadata": {},
   "outputs": [
    {
     "name": "stdout",
     "output_type": "stream",
     "text": [
      "카운트 =  0\n",
      "카운트 =  1\n",
      "카운트 =  2\n",
      "카운트 =  3\n",
      "카운트 =  4\n"
     ]
    }
   ],
   "source": [
    "count = 0\n",
    "while(count<5):\n",
    "    print(\"카운트 = \", count)\n",
    "    count += 1"
   ]
  }
 ],
 "metadata": {
  "kernelspec": {
   "display_name": "Python 3 (ipykernel)",
   "language": "python",
   "name": "python3"
  },
  "language_info": {
   "codemirror_mode": {
    "name": "ipython",
    "version": 3
   },
   "file_extension": ".py",
   "mimetype": "text/x-python",
   "name": "python",
   "nbconvert_exporter": "python",
   "pygments_lexer": "ipython3",
   "version": "3.9.12"
  }
 },
 "nbformat": 4,
 "nbformat_minor": 5
}
