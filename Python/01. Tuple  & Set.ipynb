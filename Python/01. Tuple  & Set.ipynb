{
 "cells": [
  {
   "cell_type": "markdown",
   "id": "7354bb82-173d-4dfe-a94a-10d9eb52c06a",
   "metadata": {},
   "source": [
    "# Tuple (튜플)\n",
    "---\n",
    "* 특징 한 번 생성 시 값의 수정이 안된다."
   ]
  },
  {
   "cell_type": "markdown",
   "id": "38d2db30-408b-4352-b926-439aeed3a5e3",
   "metadata": {},
   "source": [
    "## tuple 생성"
   ]
  },
  {
   "cell_type": "code",
   "execution_count": 4,
   "id": "20eb9f6f-6cdf-4f7a-b89f-67ae3db231e1",
   "metadata": {},
   "outputs": [
    {
     "data": {
      "text/plain": [
       "tuple"
      ]
     },
     "execution_count": 4,
     "metadata": {},
     "output_type": "execute_result"
    }
   ],
   "source": [
    "t1 = tuple() # 빈 튜플 선언1\n",
    "type(t1)"
   ]
  },
  {
   "cell_type": "code",
   "execution_count": 5,
   "id": "ebb7add1-8b40-43df-a3e7-f263c79d773e",
   "metadata": {},
   "outputs": [
    {
     "data": {
      "text/plain": [
       "tuple"
      ]
     },
     "execution_count": 5,
     "metadata": {},
     "output_type": "execute_result"
    }
   ],
   "source": [
    "t2 = () # 빈 튜플 선언2\n",
    "type(t2)"
   ]
  },
  {
   "cell_type": "code",
   "execution_count": 6,
   "id": "72c056b2-c972-4795-8ae2-627a3a1586df",
   "metadata": {},
   "outputs": [
    {
     "data": {
      "text/plain": [
       "(1, 2, 3, 4, 5)"
      ]
     },
     "execution_count": 6,
     "metadata": {},
     "output_type": "execute_result"
    }
   ],
   "source": [
    "# 일반 선언\n",
    "tuple1 = (1,2,3,4,5)\n",
    "tuple1"
   ]
  },
  {
   "cell_type": "markdown",
   "id": "4487c792-a8e0-4b4a-9f07-09cfcb4cd6d3",
   "metadata": {},
   "source": [
    "## tuple 연산"
   ]
  },
  {
   "cell_type": "code",
   "execution_count": 7,
   "id": "86e6106b-1058-4a0c-a742-05e8dca883a5",
   "metadata": {},
   "outputs": [
    {
     "data": {
      "text/plain": [
       "1"
      ]
     },
     "execution_count": 7,
     "metadata": {},
     "output_type": "execute_result"
    }
   ],
   "source": [
    "tuple1.count(1) # count 연산 - 가로 안에 몇개 있는지 확인"
   ]
  },
  {
   "cell_type": "code",
   "execution_count": 9,
   "id": "e23064a2-b3a6-40e0-99ad-caf6477ba9c0",
   "metadata": {},
   "outputs": [
    {
     "data": {
      "text/plain": [
       "0"
      ]
     },
     "execution_count": 9,
     "metadata": {},
     "output_type": "execute_result"
    }
   ],
   "source": [
    "tuple1.index(1) # index 연산 - 몇번째 위치에 존재하는지 확인"
   ]
  },
  {
   "cell_type": "markdown",
   "id": "dc51cddb-8fb2-44bc-a92b-9d4233ff4dc1",
   "metadata": {},
   "source": [
    "# Set(집합)\n",
    "---\n",
    "* 값이 중복해서 들어가지 않음.\n",
    "* 값이 정렬되서 선언됨."
   ]
  },
  {
   "cell_type": "markdown",
   "id": "ee1fabcc-896f-47fb-b8f8-7071fa4ec4fc",
   "metadata": {},
   "source": [
    "## Set 선언 방법"
   ]
  },
  {
   "cell_type": "code",
   "execution_count": 10,
   "id": "eb35dec6-265f-4476-8a16-7ca7ea8a5ed0",
   "metadata": {},
   "outputs": [
    {
     "data": {
      "text/plain": [
       "set"
      ]
     },
     "execution_count": 10,
     "metadata": {},
     "output_type": "execute_result"
    }
   ],
   "source": [
    "s1 = set([1,2,3])\n",
    "type(s1)"
   ]
  },
  {
   "cell_type": "code",
   "execution_count": 12,
   "id": "29e99969-c213-4cd1-a4a6-ca5f9a288933",
   "metadata": {},
   "outputs": [
    {
     "data": {
      "text/plain": [
       "{1, 2, 3, 4, 5, 23, 31, 34, 123, 451}"
      ]
     },
     "execution_count": 12,
     "metadata": {},
     "output_type": "execute_result"
    }
   ],
   "source": [
    "s1 = set([5,1,2,34,2,31,23,2,123,2,1,23,34,451,3,3,3,4]) \n",
    "s1 # 중복제거 됨."
   ]
  },
  {
   "cell_type": "code",
   "execution_count": 13,
   "id": "bffc2f61-352e-48cc-af80-db6879d06748",
   "metadata": {},
   "outputs": [
    {
     "data": {
      "text/plain": [
       "{'A', 'B', 'C', 'D', 'E'}"
      ]
     },
     "execution_count": 13,
     "metadata": {},
     "output_type": "execute_result"
    }
   ],
   "source": [
    "# 문자열로 집합으로 가능\n",
    "set('AABBCCDDEE') # 증복 값 제거 됨."
   ]
  },
  {
   "cell_type": "markdown",
   "id": "20228498-075d-446b-8256-d824760e0fd6",
   "metadata": {},
   "source": [
    "## Set 연산"
   ]
  },
  {
   "cell_type": "code",
   "execution_count": 14,
   "id": "a55a7f5d-2e4d-496c-acc2-59d39200eab8",
   "metadata": {},
   "outputs": [
    {
     "name": "stdout",
     "output_type": "stream",
     "text": [
      "{3}\n",
      "{3}\n",
      "{1, 2, 3, 4, 5}\n",
      "{1, 2, 3, 4, 5}\n",
      "{1, 2}\n",
      "{1, 2}\n"
     ]
    }
   ],
   "source": [
    "s2 = set([1,2,3])\n",
    "s3 = set([3,4,5])\n",
    "print(s2 & s3) # 교집합\n",
    "print(s2.intersection(s3)) # 위와 같은 교집합\n",
    "print(s2 | s3) # 합집합\n",
    "print(s2.union(s3)) # 합 집합\n",
    "print(s2 - s3) # 차집합\n",
    "print(s2.difference(s3)) # 차집합"
   ]
  },
  {
   "cell_type": "code",
   "execution_count": 15,
   "id": "b3b278bd-292f-4354-b6e3-da3e94702031",
   "metadata": {},
   "outputs": [
    {
     "name": "stdout",
     "output_type": "stream",
     "text": [
      "{10, 1, 2, 3}\n",
      "{10, 1, 2, 3}\n"
     ]
    }
   ],
   "source": [
    "# add() - 값 하나만 추가\n",
    "s2.add(10) # 값 추가\n",
    "print(s2)\n",
    "# 다시 추가\n",
    "s2.add(10)\n",
    "print(s2) # 의미 X -> 집합이므로"
   ]
  },
  {
   "cell_type": "code",
   "execution_count": 16,
   "id": "10282c65-5ee6-471a-99ad-7c374399dcee",
   "metadata": {},
   "outputs": [
    {
     "name": "stdout",
     "output_type": "stream",
     "text": [
      "{1, 2, 3, 10, 11, 12}\n"
     ]
    }
   ],
   "source": [
    "# update - 값 리스트로 추가(여러개 추가)\n",
    "s2.update([11,12])\n",
    "print(s2)"
   ]
  },
  {
   "cell_type": "code",
   "execution_count": 17,
   "id": "ba6dc408-ef92-40f1-b8a0-f08d37aaf9ca",
   "metadata": {},
   "outputs": [
    {
     "data": {
      "text/plain": [
       "7"
      ]
     },
     "execution_count": 17,
     "metadata": {},
     "output_type": "execute_result"
    }
   ],
   "source": [
    "# mini Quiz\n",
    "list1= [1, 2, 1, 4, 5, 1, 3, 5, 7, 8, 1]\n",
    "len(set(list1))"
   ]
  },
  {
   "cell_type": "markdown",
   "id": "b69d551d-11a0-43a0-acfa-f71997584834",
   "metadata": {},
   "source": [
    "## 연습문제\n",
    "[점프 투 파이썬](https://wikidocs.net/42526)"
   ]
  },
  {
   "cell_type": "code",
   "execution_count": 19,
   "id": "0d306fa6-2a94-423f-8220-469ee7e415ca",
   "metadata": {},
   "outputs": [
    {
     "data": {
      "text/plain": [
       "{'국어': 80, '영어': 75, '수학': 55, '평균 점수': 70.0}"
      ]
     },
     "execution_count": 19,
     "metadata": {},
     "output_type": "execute_result"
    }
   ],
   "source": [
    "# Q1\n",
    "hong_score = {'국어' : 80, '영어' : 75, '수학' : 55}\n",
    "hong_score['평균 점수'] = sum(list(hong_score.values())) / len(list(hong_score.items()))\n",
    "hong_score"
   ]
  },
  {
   "cell_type": "code",
   "execution_count": 20,
   "id": "ff41e9f8-7eff-475b-aff4-18c0057ba952",
   "metadata": {},
   "outputs": [
    {
     "name": "stdin",
     "output_type": "stream",
     "text": [
      "숫자를 입력해 주세요 :  1\n"
     ]
    },
    {
     "data": {
      "text/plain": [
       "1"
      ]
     },
     "execution_count": 20,
     "metadata": {},
     "output_type": "execute_result"
    }
   ],
   "source": [
    "# Q2\n",
    "input_num = int(input('숫자를 입력해 주세요 : '))\n",
    "input_num % 2 \n",
    "# 1이면 홀수\n",
    "# 0이면 짝수"
   ]
  },
  {
   "cell_type": "code",
   "execution_count": 21,
   "id": "8e61d718-638a-400a-af29-665bb3d11a82",
   "metadata": {},
   "outputs": [
    {
     "data": {
      "text/plain": [
       "['881120', '1068234']"
      ]
     },
     "execution_count": 21,
     "metadata": {},
     "output_type": "execute_result"
    }
   ],
   "source": [
    "# Q3\n",
    "hong_personal_number = '881120-1068234'\n",
    "hong_personal_number.split('-')"
   ]
  },
  {
   "cell_type": "code",
   "execution_count": 22,
   "id": "dd8f7941-4fa3-4db6-9c18-94c426b1324f",
   "metadata": {},
   "outputs": [
    {
     "name": "stdout",
     "output_type": "stream",
     "text": [
      "1\n"
     ]
    }
   ],
   "source": [
    "# Q4\n",
    "print(hong_personal_number[7])"
   ]
  },
  {
   "cell_type": "code",
   "execution_count": 23,
   "id": "a683a9cf-9aab-4fc9-a6aa-75b454ceb8c1",
   "metadata": {},
   "outputs": [
    {
     "data": {
      "text/plain": [
       "'a#b#c#d'"
      ]
     },
     "execution_count": 23,
     "metadata": {},
     "output_type": "execute_result"
    }
   ],
   "source": [
    "# Q5\n",
    "a = \"a:b:c:d\"\n",
    "\"#\".join(a.split(':'))"
   ]
  },
  {
   "cell_type": "code",
   "execution_count": 24,
   "id": "82642dd3-d3b4-4de7-8373-6de9d6e2b57d",
   "metadata": {},
   "outputs": [
    {
     "data": {
      "text/plain": [
       "[5, 4, 3, 2, 1]"
      ]
     },
     "execution_count": 24,
     "metadata": {},
     "output_type": "execute_result"
    }
   ],
   "source": [
    "# Q6\n",
    "list_num = [1, 3, 5, 4, 2]\n",
    "list_num.sort(reverse=True)\n",
    "list_num"
   ]
  },
  {
   "cell_type": "code",
   "execution_count": 25,
   "id": "77ab109c-3510-4523-a3b2-25d1acc0190f",
   "metadata": {},
   "outputs": [
    {
     "data": {
      "text/plain": [
       "'Life is too short'"
      ]
     },
     "execution_count": 25,
     "metadata": {},
     "output_type": "execute_result"
    }
   ],
   "source": [
    "# Q7\n",
    "list_str = ['Life', 'is', 'too', 'short']\n",
    "' '.join(list_str)"
   ]
  },
  {
   "cell_type": "code",
   "execution_count": 26,
   "id": "2a7cd393-e636-4f2c-a508-43c934c2d4d2",
   "metadata": {},
   "outputs": [
    {
     "name": "stdout",
     "output_type": "stream",
     "text": [
      "(1, 2, 3, 4)\n"
     ]
    }
   ],
   "source": [
    "# Q8\n",
    "a = (1, 2, 3)\n",
    "# 튜플은 수정이 불가능 하므로 기존 튜플을 바꾸는게 아니라\n",
    "# 새로운 튜플을 생성해서 대입하는 형태\n",
    "a = a + (4,)\n",
    "\n",
    "print(a) "
   ]
  },
  {
   "cell_type": "code",
   "execution_count": 27,
   "id": "8b31edf2-133b-4f4c-b3a9-389d99d2f4ee",
   "metadata": {},
   "outputs": [],
   "source": [
    "# Q9\n",
    "# 3번 dict의 key값에는 리스트가 불가능!"
   ]
  },
  {
   "cell_type": "code",
   "execution_count": 28,
   "id": "c1750ad6-21f7-4526-ae58-6d35e03e57ef",
   "metadata": {},
   "outputs": [
    {
     "name": "stdout",
     "output_type": "stream",
     "text": [
      "80\n",
      "{'A': 90, 'C': 70}\n"
     ]
    }
   ],
   "source": [
    "# Q10\n",
    "a = {'A':90, 'B':80, 'C':70}\n",
    "result = a.pop('B')\n",
    "print(result)\n",
    "print(a) # B 제거"
   ]
  },
  {
   "cell_type": "code",
   "execution_count": 29,
   "id": "8088ab06-8f44-4a78-92ef-ee4d46477dca",
   "metadata": {},
   "outputs": [
    {
     "name": "stdout",
     "output_type": "stream",
     "text": [
      "[1, 2, 3, 4, 5]\n"
     ]
    }
   ],
   "source": [
    "# Q11\n",
    "a = [1,1,1,2,2,3,3,3,4,4,5]\n",
    "print(list(set(a)))"
   ]
  },
  {
   "cell_type": "code",
   "execution_count": 31,
   "id": "adccddb9-e706-4260-8307-2844326aba6b",
   "metadata": {},
   "outputs": [
    {
     "name": "stdout",
     "output_type": "stream",
     "text": [
      "[1, 4, 3]\n"
     ]
    }
   ],
   "source": [
    "# Q12\n",
    "a = b = [1, 2, 3]\n",
    "a[1] = 4\n",
    "# b도 값이 변경\n",
    "# a가 가지고 있는 값은 b의 주소에 해당되는 값을 가르키므로\n",
    "# a가 변경되도 b의 값이 변경된다. C의 포인터 개념!\n",
    "# 동일한 객체를 가르키고 있다.\n",
    "print(b)"
   ]
  }
 ],
 "metadata": {
  "kernelspec": {
   "display_name": "Python 3 (ipykernel)",
   "language": "python",
   "name": "python3"
  },
  "language_info": {
   "codemirror_mode": {
    "name": "ipython",
    "version": 3
   },
   "file_extension": ".py",
   "mimetype": "text/x-python",
   "name": "python",
   "nbconvert_exporter": "python",
   "pygments_lexer": "ipython3",
   "version": "3.9.12"
  }
 },
 "nbformat": 4,
 "nbformat_minor": 5
}
