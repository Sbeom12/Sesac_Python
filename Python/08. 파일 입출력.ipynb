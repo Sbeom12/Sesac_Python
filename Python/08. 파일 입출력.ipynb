{
 "cells": [
  {
   "cell_type": "markdown",
   "id": "02a33e5d-da62-41ab-b76e-d6a81a73c2d3",
   "metadata": {},
   "source": [
    "# 파일 입출력\n",
    "* `open(filename,mode)` - 파일 열기\n",
    "* `close()` - 파일 닫기\n",
    "* 파일을 열었으면 마지막에 닫아야한다. (중요!)\n",
    "    * 파일을 열기만 하면 메모리 사용량이 많아지고 -> 렉 걸림!\n",
    "---"
   ]
  },
  {
   "cell_type": "markdown",
   "id": "5f41ea83-221c-42ab-8855-7d84c6767f7c",
   "metadata": {},
   "source": [
    "## mode 종류\n",
    "* `r(read)` : 읽음.\n",
    "* `a(append)` : 기존 내용에 추가하기.\n",
    "* `w(write)` : 새로운 파일 생성 후 작성."
   ]
  },
  {
   "cell_type": "code",
   "execution_count": 9,
   "id": "be882712-dc09-4ab6-98b2-29bf75ae45ff",
   "metadata": {},
   "outputs": [
    {
     "data": {
      "text/plain": [
       "<_io.TextIOWrapper name='sample.txt' mode='r' encoding='utf-8'>"
      ]
     },
     "execution_count": 9,
     "metadata": {},
     "output_type": "execute_result"
    }
   ],
   "source": [
    "# 예시 \n",
    "open('sample.txt', 'r', encoding='utf-8') # 한글이라서 utf-8 사용"
   ]
  },
  {
   "cell_type": "markdown",
   "id": "4ca47315-3481-4229-8d64-151cebc2bbaf",
   "metadata": {},
   "source": [
    "## Read\n",
    "* `readline()` - 한 줄씩 읽음.\n",
    "* `readlines()` - 한꺼번에 다 읽고(자체적 split이있음)\n",
    "* `read()` - 한꺼번에 다 읽고 split(x)"
   ]
  },
  {
   "cell_type": "code",
   "execution_count": 7,
   "id": "822f7028-c33e-4d0e-8e3d-eedf89227c23",
   "metadata": {},
   "outputs": [],
   "source": [
    "# 파일 읽기\n",
    "f = open('sample.txt', 'r', encoding='utf-8') # 차후 사용을 위해서 변수로 선언해서 받아온다. 내용이 한글이므로 utf - 8 or  euc-kr로 사용"
   ]
  },
  {
   "cell_type": "code",
   "execution_count": 8,
   "id": "a4631fec-c78e-4f13-bb16-0041151698de",
   "metadata": {},
   "outputs": [
    {
     "name": "stdout",
     "output_type": "stream",
     "text": [
      "1번째 줄입니다.\n",
      "2번째 줄입니다.\n",
      "3번째 줄입니다.\n",
      "4번째 줄입니다.\n",
      "5번째 줄입니다.\n",
      "6번째 줄입니다."
     ]
    }
   ],
   "source": [
    "# readline\n",
    "while True: # 파일을 다 읽을 떄까지 실행\n",
    "    line = f.readline() # 한줄만 받아드림.\n",
    "    if line:\n",
    "        print(line, end=\"\") \n",
    "        # 이미 파일에 엔터가 있어서 print문으로 출력하면 이중으로 엔터되므로 이를 방지\n",
    "    else:\n",
    "        break \n",
    "f.close() # 파일 닫기!"
   ]
  },
  {
   "cell_type": "code",
   "execution_count": 20,
   "id": "fd4317e9-04fb-4549-819e-b430fbe93432",
   "metadata": {},
   "outputs": [
    {
     "name": "stdout",
     "output_type": "stream",
     "text": [
      "['1번째 줄입니다.\\n', '2번째 줄입니다.\\n', '3번째 줄입니다.\\n', '4번째 줄입니다.\\n', '5번째 줄입니다.\\n', '6번째 줄입니다.']\n",
      "<class 'list'>\n"
     ]
    }
   ],
   "source": [
    "# readlines\n",
    "f = open('sample.txt', 'r', encoding='utf-8') # 차후 사용을 위해서 변수로 선언해서 받아온다. 내용이 한글이므로 utf - 8 or  euc-kr로 사용\n",
    "\n",
    "line = f.readlines() # 전체 읽기\n",
    "print(line) # \\n이 들어가 있음\n",
    "print(type(line)) # 줄 당 split을 하여 리스트로 가져온다.\n",
    "f.close() # 파일 닫기"
   ]
  },
  {
   "cell_type": "code",
   "execution_count": 18,
   "id": "0ebb99ad-5657-4dc0-b8ce-698adfefb064",
   "metadata": {},
   "outputs": [
    {
     "name": "stdout",
     "output_type": "stream",
     "text": [
      "1번째 줄입니다.\n",
      "2번째 줄입니다.\n",
      "3번째 줄입니다.\n",
      "4번째 줄입니다.\n",
      "5번째 줄입니다.\n",
      "6번째 줄입니다.\n"
     ]
    }
   ],
   "source": [
    "# read\n",
    "f = open('sample.txt', 'r', encoding='utf-8') # 차후 사용을 위해서 변수로 선언해서 받아온다. 내용이 한글이므로 utf - 8 or  euc-kr로 사용\n",
    "\n",
    "line = f.read() # 전체 읽기\n",
    "print(line) # \\n이 반영됨\n",
    "f.close() # 파일 닫기"
   ]
  },
  {
   "cell_type": "code",
   "execution_count": 29,
   "id": "8df13069-a3e6-405d-8694-cd7f09c6dcfd",
   "metadata": {},
   "outputs": [
    {
     "data": {
      "text/plain": [
       "['1번째 줄입니다.', '2번째 줄입니다.', '3번째 줄입니다.', '4번째 줄입니다.', '5번째 줄입니다.', '6번째 줄입니다.']"
      ]
     },
     "execution_count": 29,
     "metadata": {},
     "output_type": "execute_result"
    }
   ],
   "source": [
    "# read + split\n",
    "f = open('sample.txt', 'r', encoding='utf-8')\n",
    "data = f.read().split('\\n')\n",
    "f.close() # 파일 닫기\n",
    "data # 출력결과는 readlines와 비슷"
   ]
  },
  {
   "cell_type": "markdown",
   "id": "8edfaee3-2f6d-4f39-8037-0d3f7421e82f",
   "metadata": {},
   "source": [
    "## encoding \n",
    "* 파일 encoding으로 어떠한 형식으로 저장됬는지를 notepad(메모장)를 통해서 확인가능\n",
    "* `utf-8` 등 다양한 형식으로 존재\n",
    "* 영어는 영향X\n",
    "* 한글로 된 파일을 실행할 때 이와 같은 문제가 발생."
   ]
  },
  {
   "cell_type": "code",
   "execution_count": 36,
   "id": "89bb94a3-f721-4ca8-98d3-cec953fc463b",
   "metadata": {},
   "outputs": [],
   "source": [
    "# 영어로 된 파일 읽기\n",
    "f2 = open('sample2.txt', 'r') # 영어로 되어 있으므로 encoding X"
   ]
  },
  {
   "cell_type": "code",
   "execution_count": 37,
   "id": "271db0b9-13c8-444e-8b1f-9186d7a24814",
   "metadata": {},
   "outputs": [
    {
     "data": {
      "text/plain": [
       "'This is first line\\nThis is second line\\nThis is Third line'"
      ]
     },
     "execution_count": 37,
     "metadata": {},
     "output_type": "execute_result"
    }
   ],
   "source": [
    "data = f2.read() # 전체 다 읽어오기\n",
    "data # 데이터 안에 \\n이 존재해서 이미 구분되서 나옴."
   ]
  },
  {
   "cell_type": "code",
   "execution_count": 39,
   "id": "85589d4d-372b-4eb5-8d31-5a70a4fb04b6",
   "metadata": {},
   "outputs": [
    {
     "name": "stdout",
     "output_type": "stream",
     "text": [
      "This is first line\n",
      "This is second line\n",
      "This is Third line\n"
     ]
    }
   ],
   "source": [
    "print(data)\n",
    "f2.close() # 파일 닫기"
   ]
  },
  {
   "cell_type": "markdown",
   "id": "22d8ca6f-8103-4159-b217-83d024c6041d",
   "metadata": {},
   "source": [
    "## Write \n",
    "* 파일 작성할 때 사용\n",
    "* 기존 파일의 존재 유무가 상관X\n",
    "    * 기존의 파일이 있으면 덮어 쓰여짐.\n",
    "    * 기존의 파일이 없으면 새로 생성됨.\n",
    "* encoding 형식을 지정해서 할 수 있음.\n",
    "* `write()` 사용"
   ]
  },
  {
   "cell_type": "code",
   "execution_count": 42,
   "id": "f8bd6771-2894-4d55-a5a6-a34d0c821bc1",
   "metadata": {},
   "outputs": [],
   "source": [
    "# Write 예시 코드\n",
    "f3 = open('sample3.txt', 'w', encoding ='utf-8') # mode를 w로 하여 쓰기 모드로 한다. 한글을 작성하고자 하므로 encoding 'utf-8'로 지정\n",
    "\n",
    "for i in range(1,6):\n",
    "    data = str(i) + '번째 출력줄입니다. \\n'\n",
    "    f3.write(data)\n",
    "f3.close() # write 할때도 파일을 닫아야한다."
   ]
  },
  {
   "cell_type": "code",
   "execution_count": 44,
   "id": "162a012a-d704-4da1-881b-c729ecf9b303",
   "metadata": {},
   "outputs": [
    {
     "name": "stdout",
     "output_type": "stream",
     "text": [
      "1번째 출력줄입니다. \n",
      "2번째 출력줄입니다. \n",
      "3번째 출력줄입니다. \n",
      "4번째 출력줄입니다. \n",
      "5번째 출력줄입니다. \n",
      "\n"
     ]
    }
   ],
   "source": [
    "# 위에서 작성한 코드 출력 \n",
    "f4 = open('sample3.txt', 'r', encoding ='utf-8')\n",
    "data = f4.read()\n",
    "print(data)\n",
    "f4.close() # 파일 닫기"
   ]
  },
  {
   "cell_type": "markdown",
   "id": "5022eeab-0d29-4a1c-b3b4-9485ff1e2261",
   "metadata": {},
   "source": [
    "## Append\n",
    "* 기존 내용에 추가\n",
    "* 기존 파일이 무조건 있어야한다.\n",
    "* 파일 형식 지정이 필요\n",
    "* `append()` 사용"
   ]
  },
  {
   "cell_type": "code",
   "execution_count": 45,
   "id": "14cd4dff-88f1-4dce-8bdc-5e075fa81b9b",
   "metadata": {},
   "outputs": [],
   "source": [
    "# Append 예시 코드\n",
    "f5 = open('sample3.txt', 'a', encoding = 'utf-8')\n",
    "for i in range(6,11):\n",
    "    data = str(i) + '번째 줄을 입력하세요 \\n'\n",
    "    f5.write(data) # 작성하기\n",
    "f5.close() # 파일 닫기"
   ]
  },
  {
   "cell_type": "code",
   "execution_count": 47,
   "id": "4d953a9c-eba5-44f7-bbba-69942e04d6ba",
   "metadata": {},
   "outputs": [
    {
     "name": "stdout",
     "output_type": "stream",
     "text": [
      "1번째 출력줄입니다. \n",
      "2번째 출력줄입니다. \n",
      "3번째 출력줄입니다. \n",
      "4번째 출력줄입니다. \n",
      "5번째 출력줄입니다. \n",
      "6번째 줄을 입력하세요 \n",
      "7번째 줄을 입력하세요 \n",
      "8번째 줄을 입력하세요 \n",
      "9번째 줄을 입력하세요 \n",
      "10번째 줄을 입력하세요 \n",
      "\n"
     ]
    }
   ],
   "source": [
    "# 위에서 작성한 코드 출력\n",
    "# 위에서 작성한 코드 출력 \n",
    "f6 = open('sample3.txt', 'r', encoding ='utf-8')\n",
    "data = f6.read()\n",
    "print(data) # 파일 출력 기존의 작성한거에 더해서 작성된 것을 확인할 수 있다.\n",
    "f6.close() # 파일 닫기"
   ]
  },
  {
   "cell_type": "markdown",
   "id": "8d448c8a-9ded-4ec4-8efc-ba9b57f13358",
   "metadata": {},
   "source": [
    "# Quiz\n",
    "* quiz.txt 파일 이름을 가지도록하세요\n",
    "* 1~100 파일에 작성하세요  \n",
    "* 100~1 파일 뒤에 추가하세요  \n",
    "* 파일의 전체 내용을 출력하세요  "
   ]
  },
  {
   "cell_type": "code",
   "execution_count": 48,
   "id": "935bd133-a57e-4734-b32a-b6cb88a2c098",
   "metadata": {},
   "outputs": [],
   "source": [
    "# Q1\n",
    "q = open('quiz.txt', 'w', encoding = 'utf-8')\n",
    "for i in range(1, 101):\n",
    "    data = str(i) + '\\n'\n",
    "    q.write(data)\n",
    "q.close()"
   ]
  },
  {
   "cell_type": "code",
   "execution_count": 49,
   "id": "397030e6-5e2b-4594-972a-aaa93a8d20c0",
   "metadata": {},
   "outputs": [],
   "source": [
    "# Q2\n",
    "q1 = open('quiz.txt', 'a', encoding = 'utf-8')\n",
    "for i in range(100, 0, -1):\n",
    "    data = str(i) + '\\n'\n",
    "    q1.write(data)\n",
    "q1.close()"
   ]
  },
  {
   "cell_type": "code",
   "execution_count": 50,
   "id": "fc729ab7-df0f-4d5a-8358-0a8fd795d4ea",
   "metadata": {},
   "outputs": [
    {
     "name": "stdout",
     "output_type": "stream",
     "text": [
      "1\n",
      "2\n",
      "3\n",
      "4\n",
      "5\n",
      "6\n",
      "7\n",
      "8\n",
      "9\n",
      "10\n",
      "11\n",
      "12\n",
      "13\n",
      "14\n",
      "15\n",
      "16\n",
      "17\n",
      "18\n",
      "19\n",
      "20\n",
      "21\n",
      "22\n",
      "23\n",
      "24\n",
      "25\n",
      "26\n",
      "27\n",
      "28\n",
      "29\n",
      "30\n",
      "31\n",
      "32\n",
      "33\n",
      "34\n",
      "35\n",
      "36\n",
      "37\n",
      "38\n",
      "39\n",
      "40\n",
      "41\n",
      "42\n",
      "43\n",
      "44\n",
      "45\n",
      "46\n",
      "47\n",
      "48\n",
      "49\n",
      "50\n",
      "51\n",
      "52\n",
      "53\n",
      "54\n",
      "55\n",
      "56\n",
      "57\n",
      "58\n",
      "59\n",
      "60\n",
      "61\n",
      "62\n",
      "63\n",
      "64\n",
      "65\n",
      "66\n",
      "67\n",
      "68\n",
      "69\n",
      "70\n",
      "71\n",
      "72\n",
      "73\n",
      "74\n",
      "75\n",
      "76\n",
      "77\n",
      "78\n",
      "79\n",
      "80\n",
      "81\n",
      "82\n",
      "83\n",
      "84\n",
      "85\n",
      "86\n",
      "87\n",
      "88\n",
      "89\n",
      "90\n",
      "91\n",
      "92\n",
      "93\n",
      "94\n",
      "95\n",
      "96\n",
      "97\n",
      "98\n",
      "99\n",
      "100\n",
      "100\n",
      "99\n",
      "98\n",
      "97\n",
      "96\n",
      "95\n",
      "94\n",
      "93\n",
      "92\n",
      "91\n",
      "90\n",
      "89\n",
      "88\n",
      "87\n",
      "86\n",
      "85\n",
      "84\n",
      "83\n",
      "82\n",
      "81\n",
      "80\n",
      "79\n",
      "78\n",
      "77\n",
      "76\n",
      "75\n",
      "74\n",
      "73\n",
      "72\n",
      "71\n",
      "70\n",
      "69\n",
      "68\n",
      "67\n",
      "66\n",
      "65\n",
      "64\n",
      "63\n",
      "62\n",
      "61\n",
      "60\n",
      "59\n",
      "58\n",
      "57\n",
      "56\n",
      "55\n",
      "54\n",
      "53\n",
      "52\n",
      "51\n",
      "50\n",
      "49\n",
      "48\n",
      "47\n",
      "46\n",
      "45\n",
      "44\n",
      "43\n",
      "42\n",
      "41\n",
      "40\n",
      "39\n",
      "38\n",
      "37\n",
      "36\n",
      "35\n",
      "34\n",
      "33\n",
      "32\n",
      "31\n",
      "30\n",
      "29\n",
      "28\n",
      "27\n",
      "26\n",
      "25\n",
      "24\n",
      "23\n",
      "22\n",
      "21\n",
      "20\n",
      "19\n",
      "18\n",
      "17\n",
      "16\n",
      "15\n",
      "14\n",
      "13\n",
      "12\n",
      "11\n",
      "10\n",
      "9\n",
      "8\n",
      "7\n",
      "6\n",
      "5\n",
      "4\n",
      "3\n",
      "2\n",
      "1\n",
      "\n"
     ]
    }
   ],
   "source": [
    "# Q3\n",
    "q2 = open('quiz.txt', 'r', encoding = 'utf-8')\n",
    "print(q2.read())\n",
    "q2.close()"
   ]
  }
 ],
 "metadata": {
  "kernelspec": {
   "display_name": "Python 3 (ipykernel)",
   "language": "python",
   "name": "python3"
  },
  "language_info": {
   "codemirror_mode": {
    "name": "ipython",
    "version": 3
   },
   "file_extension": ".py",
   "mimetype": "text/x-python",
   "name": "python",
   "nbconvert_exporter": "python",
   "pygments_lexer": "ipython3",
   "version": "3.9.12"
  }
 },
 "nbformat": 4,
 "nbformat_minor": 5
}
