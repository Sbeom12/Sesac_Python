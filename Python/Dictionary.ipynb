{
 "cells": [
  {
   "cell_type": "markdown",
   "id": "d6c9c022-07d6-4d2f-89c8-e1c9a8e2ecc5",
   "metadata": {},
   "source": [
    "# Dicitonary(dict)\n",
    "---"
   ]
  },
  {
   "cell_type": "markdown",
   "id": "68f64374-31a5-4add-8c61-2f31565b83d6",
   "metadata": {},
   "source": [
    "## 딕셔너리 선언"
   ]
  },
  {
   "cell_type": "code",
   "execution_count": 2,
   "id": "95288c8c-0f8f-466f-8070-5dbf96396246",
   "metadata": {},
   "outputs": [
    {
     "data": {
      "text/plain": [
       "dict"
      ]
     },
     "execution_count": 2,
     "metadata": {},
     "output_type": "execute_result"
    }
   ],
   "source": [
    "dict1 = dict() # 빈 딕셔너리 선언\n",
    "type(dict1)"
   ]
  },
  {
   "cell_type": "code",
   "execution_count": 3,
   "id": "e2b8f243-7784-4328-9d2a-0b44218c438c",
   "metadata": {},
   "outputs": [
    {
     "data": {
      "text/plain": [
       "dict"
      ]
     },
     "execution_count": 3,
     "metadata": {},
     "output_type": "execute_result"
    }
   ],
   "source": [
    "dict2 = {} # 중괄호 이용해서 빈 딕셔너리 선언\n",
    "type(dict2)"
   ]
  },
  {
   "cell_type": "code",
   "execution_count": 4,
   "id": "6ea3623c-c0ac-4687-aae6-f1c42161aecc",
   "metadata": {},
   "outputs": [
    {
     "data": {
      "text/plain": [
       "dict"
      ]
     },
     "execution_count": 4,
     "metadata": {},
     "output_type": "execute_result"
    }
   ],
   "source": [
    "people = {'name':'hojin', 'age':20, 'weight':30, 'socre':['A','A+','S']} # key와 value 순서로 입력해준다.\n",
    "type(people)"
   ]
  },
  {
   "cell_type": "code",
   "execution_count": 5,
   "id": "9eb98919-18b1-47e8-885b-af2d703f673e",
   "metadata": {},
   "outputs": [
    {
     "data": {
      "text/plain": [
       "{'name': 'hojin', 'age': 20, 'weight': 30, 'socre': ['A', 'A+', 'S']}"
      ]
     },
     "execution_count": 5,
     "metadata": {},
     "output_type": "execute_result"
    }
   ],
   "source": [
    "people # 안에 불형, 리스트형 등 다양한 형태들도 들어갈 수 있다."
   ]
  },
  {
   "cell_type": "code",
   "execution_count": 6,
   "id": "728a2888-2ad4-4e2a-b97e-5ebacda366b7",
   "metadata": {},
   "outputs": [
    {
     "data": {
      "text/plain": [
       "'hojin'"
      ]
     },
     "execution_count": 6,
     "metadata": {},
     "output_type": "execute_result"
    }
   ],
   "source": [
    "people['name'] # 값 불러오기 - key를 넣어서 value를 불러오기"
   ]
  },
  {
   "cell_type": "code",
   "execution_count": 8,
   "id": "8d934896-527a-4018-8c21-327c5656a5e4",
   "metadata": {},
   "outputs": [
    {
     "data": {
      "text/plain": [
       "{'name': 'hojin',\n",
       " 'age': 20,\n",
       " 'weight': 30,\n",
       " 'socre': ['A', 'A+', 'S'],\n",
       " 'height': '2M'}"
      ]
     },
     "execution_count": 8,
     "metadata": {},
     "output_type": "execute_result"
    }
   ],
   "source": [
    "people['height'] = '2M' # 값을 추가해보기\n",
    "people # 확인"
   ]
  },
  {
   "cell_type": "code",
   "execution_count": 9,
   "id": "adafd2b6-2789-4daf-9ef6-d41793a8b683",
   "metadata": {},
   "outputs": [
    {
     "data": {
      "text/plain": [
       "{'name': 'hojin', 'age': 20, 'socre': ['A', 'A+', 'S'], 'height': '2M'}"
      ]
     },
     "execution_count": 9,
     "metadata": {},
     "output_type": "execute_result"
    }
   ],
   "source": [
    "# del을 이용해 내용 지우기 \n",
    "del people['weight'] # key 값에 해당하는 value를 지운다.\n",
    "people"
   ]
  },
  {
   "cell_type": "markdown",
   "id": "60047080-1192-4ee6-801e-e55be354f5ef",
   "metadata": {},
   "source": [
    "### mini Quiz\n",
    "* socre 안에 있는 리스트에 'B'를 추가한다."
   ]
  },
  {
   "cell_type": "code",
   "execution_count": 10,
   "id": "597ba987-cf51-4c4f-8b88-6c147074cd84",
   "metadata": {},
   "outputs": [
    {
     "data": {
      "text/plain": [
       "{'name': 'hojin', 'age': 20, 'socre': ['A', 'A+', 'S', 'B'], 'height': '2M'}"
      ]
     },
     "execution_count": 10,
     "metadata": {},
     "output_type": "execute_result"
    }
   ],
   "source": [
    "people['socre'].append('B')\n",
    "people"
   ]
  },
  {
   "cell_type": "code",
   "execution_count": 11,
   "id": "c05585ba-dc79-4d46-b0ea-9e6f73429df2",
   "metadata": {},
   "outputs": [
    {
     "data": {
      "text/plain": [
       "{'name': 'hojin',\n",
       " 'age': 20,\n",
       " 'socre': ['C', 'A', 'A+', 'S', 'B'],\n",
       " 'height': '2M'}"
      ]
     },
     "execution_count": 11,
     "metadata": {},
     "output_type": "execute_result"
    }
   ],
   "source": [
    "# list의 insert도 사용해보기\n",
    "people['socre'].insert(0,'C')\n",
    "people"
   ]
  },
  {
   "cell_type": "markdown",
   "id": "c7896aa1-e6ec-4aae-ad82-b1e342cb6397",
   "metadata": {},
   "source": [
    "## Waring! 주의점!\n",
    "* 딕셔너리의 key는 오직 하나만 존재! \n",
    "* 같은이름의 key가 2개 존재할 수 없다!\n",
    "* 만약 같은 이름 두개를 넣으면 앞에 data는 사라진다.\n",
    "* key로 문자와 숫자와 튜플은 가능하지만, list는 불가능하다.\n",
    "* key는 변경이 불가능한 값!"
   ]
  },
  {
   "cell_type": "code",
   "execution_count": 12,
   "id": "de6734be-4a3f-429d-a7c2-6deac1c7e01c",
   "metadata": {},
   "outputs": [
    {
     "data": {
      "text/plain": [
       "{'name': 'abc2'}"
      ]
     },
     "execution_count": 12,
     "metadata": {},
     "output_type": "execute_result"
    }
   ],
   "source": [
    "dict2 = {'name' : 'abc1', 'name' : 'abc2'}\n",
    "dict2"
   ]
  },
  {
   "cell_type": "code",
   "execution_count": 13,
   "id": "b91354ac-985c-43eb-b73f-b6cf6fa42b30",
   "metadata": {},
   "outputs": [
    {
     "data": {
      "text/plain": [
       "{1: 'abc', (1, 2, 3): 'adc'}"
      ]
     },
     "execution_count": 13,
     "metadata": {},
     "output_type": "execute_result"
    }
   ],
   "source": [
    "dict3= { 1 : 'abc', (1,2,3) : 'adc'}\n",
    "dict3"
   ]
  },
  {
   "cell_type": "markdown",
   "id": "9fa41457-ee10-4ef4-9da0-53ea05bd8a9d",
   "metadata": {},
   "source": [
    "## Dict 관련 함수\n",
    "* keys()\n",
    "* values()\n",
    "* items()\n",
    "* get()"
   ]
  },
  {
   "cell_type": "code",
   "execution_count": 14,
   "id": "36d11ea2-2bff-4bca-9edb-0442fa51ee78",
   "metadata": {},
   "outputs": [
    {
     "data": {
      "text/plain": [
       "{'name': 'hojin',\n",
       " 'age': 20,\n",
       " 'weight': 30,\n",
       " 'socre': ['A', 'B', 'C'],\n",
       " 'height': '180cm'}"
      ]
     },
     "execution_count": 14,
     "metadata": {},
     "output_type": "execute_result"
    }
   ],
   "source": [
    "people = {'name':'hojin', 'age':20, 'weight':30, 'socre':['A','B','C'], 'height':'180cm'}\n",
    "people"
   ]
  },
  {
   "cell_type": "code",
   "execution_count": 16,
   "id": "bf34f6c5-4da0-4910-87b5-7ed5a20643c9",
   "metadata": {},
   "outputs": [
    {
     "data": {
      "text/plain": [
       "dict_keys(['name', 'age', 'weight', 'socre', 'height'])"
      ]
     },
     "execution_count": 16,
     "metadata": {},
     "output_type": "execute_result"
    }
   ],
   "source": [
    "# keys() - dictionary의 keys 확인\n",
    "people.keys() # dictionary의 key가 뭐가 있는지 확인이 가능하다."
   ]
  },
  {
   "cell_type": "code",
   "execution_count": 17,
   "id": "48ee23df-74e9-4c15-ac52-34ffb4488d00",
   "metadata": {},
   "outputs": [
    {
     "data": {
      "text/plain": [
       "dict_values(['hojin', 20, 30, ['A', 'B', 'C'], '180cm'])"
      ]
     },
     "execution_count": 17,
     "metadata": {},
     "output_type": "execute_result"
    }
   ],
   "source": [
    "# values() - dictionary의 values 확인\n",
    "people.values() # dictioniary의 value가 뭐가 있는지 확인이 가능하다."
   ]
  },
  {
   "cell_type": "code",
   "execution_count": 19,
   "id": "7dd7d7f0-455c-4446-a43e-9e6b1ae24f37",
   "metadata": {},
   "outputs": [
    {
     "name": "stdout",
     "output_type": "stream",
     "text": [
      "<class 'dict_keys'>\n",
      "<class 'dict_values'>\n"
     ]
    }
   ],
   "source": [
    "print(type(people.keys())) # keys의 자료형 확인\n",
    "print(type(people.values())) # values의 자료b형 확인"
   ]
  },
  {
   "cell_type": "markdown",
   "id": "647c316a-3a06-4080-bd38-a6a1eec82511",
   "metadata": {},
   "source": [
    "* 둘다 list가 아니다! 그래서 list 관련 함수 사용이 불가\n",
    "* 만약 list로 사용하기 쉽다면, list로 따로 선언해서 사용 "
   ]
  },
  {
   "cell_type": "code",
   "execution_count": null,
   "id": "d819dbf7-2b64-45db-9bb4-92eaaa003e50",
   "metadata": {},
   "outputs": [],
   "source": [
    "# items() - key, value 얻기\n",
    "print(people.items()) # items 출력\n",
    "print(type(people.items())) # 자료형 확인\n",
    "print(list(people.items()))\n",
    "print(type(list(people.items()))) # list이므로 list 연산이 가능하다."
   ]
  },
  {
   "cell_type": "code",
   "execution_count": 20,
   "id": "0abc7266-7f52-46ea-b543-a2da125b2d7c",
   "metadata": {},
   "outputs": [
    {
     "name": "stdout",
     "output_type": "stream",
     "text": [
      "hojin\n",
      "hojin\n"
     ]
    }
   ],
   "source": [
    "# get() - value를 이용해서 해당하는 key값 뽑기\n",
    "print(people.get('name'))\n",
    "\n",
    "# same thing\n",
    "print(people['name'])"
   ]
  },
  {
   "cell_type": "code",
   "execution_count": 21,
   "id": "f5f93f3d-0d57-4cc5-aa3b-0eac87a6fd12",
   "metadata": {},
   "outputs": [
    {
     "name": "stdout",
     "output_type": "stream",
     "text": [
      "True\n",
      "False\n"
     ]
    }
   ],
   "source": [
    "# a in b - b가 a 안에 있는지 확인 -> 결과는 불형\n",
    "print('name' in people) # b가 dictionary라면 key를 기준으로 물어본 것!\n",
    "print('hojin' in people) # 따라서 hojin도 안에 있지만 key가 아니라서 거짓"
   ]
  },
  {
   "cell_type": "markdown",
   "id": "b7760968-d11a-45ed-8c8f-7f3e2397bc7d",
   "metadata": {},
   "source": [
    "# Quiz\n",
    "1. 자신의 이름, 나이, 성별이 포함된 `my_dict`를 생성.\n",
    "2. `my_dict`에 사는 곳 추가\n",
    "3. `my_dict`에 `키`를 `리스트`로 출력해보세요!"
   ]
  },
  {
   "cell_type": "code",
   "execution_count": 22,
   "id": "49353884-4134-4dd6-9807-2bfa87664f9d",
   "metadata": {},
   "outputs": [
    {
     "data": {
      "text/plain": [
       "{'name': 'beom', 'age': 25, 'sex': 'male'}"
      ]
     },
     "execution_count": 22,
     "metadata": {},
     "output_type": "execute_result"
    }
   ],
   "source": [
    "# Quiz 1\n",
    "my_dict = {'name' : 'beom', 'age' : 25, 'sex' : 'male'}\n",
    "my_dict"
   ]
  },
  {
   "cell_type": "code",
   "execution_count": 23,
   "id": "57dbb698-0ce3-4556-b340-3c2b7a3d9ef5",
   "metadata": {},
   "outputs": [
    {
     "data": {
      "text/plain": [
       "{'name': 'beom', 'age': 25, 'sex': 'male', 'place': 'heaven'}"
      ]
     },
     "execution_count": 23,
     "metadata": {},
     "output_type": "execute_result"
    }
   ],
   "source": [
    "# Quiz 2\n",
    "my_dict['place'] = 'heaven'\n",
    "my_dict"
   ]
  },
  {
   "cell_type": "code",
   "execution_count": 24,
   "id": "e0ea6fcb-00f3-4e5f-9ca6-30f55819d2d5",
   "metadata": {},
   "outputs": [
    {
     "name": "stdout",
     "output_type": "stream",
     "text": [
      "['name', 'age', 'sex', 'place']\n",
      "<class 'list'>\n"
     ]
    }
   ],
   "source": [
    "# Quiz 3\n",
    "print(list(my_dict))\n",
    "print(type(list(my_dict)))"
   ]
  }
 ],
 "metadata": {
  "kernelspec": {
   "display_name": "Python 3 (ipykernel)",
   "language": "python",
   "name": "python3"
  },
  "language_info": {
   "codemirror_mode": {
    "name": "ipython",
    "version": 3
   },
   "file_extension": ".py",
   "mimetype": "text/x-python",
   "name": "python",
   "nbconvert_exporter": "python",
   "pygments_lexer": "ipython3",
   "version": "3.9.12"
  }
 },
 "nbformat": 4,
 "nbformat_minor": 5
}
