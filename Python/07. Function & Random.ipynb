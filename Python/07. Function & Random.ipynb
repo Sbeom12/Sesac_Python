{
 "cells": [
  {
   "cell_type": "markdown",
   "id": "ddb0f886-73e4-4e9b-bffe-e0d8451b011d",
   "metadata": {},
   "source": [
    "# 함수(Function)\n",
    "* def 이용\n",
    "* 많이 사용하는 것을 잘 사용하기 위해서 선언\n",
    "* 매개변수, 반환값"
   ]
  },
  {
   "cell_type": "markdown",
   "id": "94fe7f89-85db-4acc-8129-bc42cc88bbbe",
   "metadata": {},
   "source": [
    "## 내장 함수\n",
    "* max()와 같이 이미 파이썬에 내장되서 사용되는 함수"
   ]
  },
  {
   "cell_type": "markdown",
   "id": "621473b0-e3af-4807-ae5c-b5b1ba3a8074",
   "metadata": {},
   "source": [
    "## 사용자 지정 함수\n",
    "* def를 이용해서 사용자가 선언해서 사용하는 함수"
   ]
  },
  {
   "cell_type": "code",
   "execution_count": 3,
   "id": "f32623d9-9868-4f2d-a6d2-0ad0437441fd",
   "metadata": {},
   "outputs": [],
   "source": [
    "def test():\n",
    "    print(\"test 함수입니다\")"
   ]
  },
  {
   "cell_type": "code",
   "execution_count": 4,
   "id": "e0db5c6b-a7d9-45b5-9814-9347ff20d19a",
   "metadata": {},
   "outputs": [
    {
     "name": "stdout",
     "output_type": "stream",
     "text": [
      "test 함수입니다\n"
     ]
    }
   ],
   "source": [
    "test()"
   ]
  },
  {
   "cell_type": "markdown",
   "id": "72f7d1d7-321c-41c1-b3e1-ef5773ffe69c",
   "metadata": {},
   "source": [
    "## 매개변수(Argument)"
   ]
  },
  {
   "cell_type": "code",
   "execution_count": 33,
   "id": "1daa8575-86e6-4fb8-a26b-0a9a66d78f2d",
   "metadata": {},
   "outputs": [],
   "source": [
    "# 간단한 매개변수 사용 -> a가 매개변수\n",
    "# 매가변수는 함수 안에서 사용이 가능.\n",
    "def test(a):\n",
    "    print('test 함수입니다')\n",
    "    print(a)"
   ]
  },
  {
   "cell_type": "code",
   "execution_count": 34,
   "id": "60b3f17d-73a8-45ba-89d6-5fb29d91ec1e",
   "metadata": {},
   "outputs": [
    {
     "name": "stdout",
     "output_type": "stream",
     "text": [
      "test 함수입니다\n",
      "1\n"
     ]
    }
   ],
   "source": [
    "test(1)"
   ]
  },
  {
   "cell_type": "markdown",
   "id": "2736a293-0e7a-4f5c-b076-46a140376f4a",
   "metadata": {},
   "source": [
    "### 매개변수 오류\n",
    "* 개수를 맞춰서 사용해야한다."
   ]
  },
  {
   "cell_type": "code",
   "execution_count": 35,
   "id": "9ab38dbe-d8f5-48e8-965d-0be3cbf397a8",
   "metadata": {},
   "outputs": [
    {
     "ename": "TypeError",
     "evalue": "test() takes 1 positional argument but 2 were given",
     "output_type": "error",
     "traceback": [
      "\u001b[1;31m---------------------------------------------------------------------------\u001b[0m",
      "\u001b[1;31mTypeError\u001b[0m                                 Traceback (most recent call last)",
      "Input \u001b[1;32mIn [35]\u001b[0m, in \u001b[0;36m<cell line: 5>\u001b[1;34m()\u001b[0m\n\u001b[0;32m      3\u001b[0m     \u001b[38;5;28mprint\u001b[39m(\u001b[38;5;124m'\u001b[39m\u001b[38;5;124mtest 함수입니다\u001b[39m\u001b[38;5;124m'\u001b[39m)\n\u001b[0;32m      4\u001b[0m     \u001b[38;5;28mprint\u001b[39m(a)\n\u001b[1;32m----> 5\u001b[0m \u001b[43mtest\u001b[49m\u001b[43m(\u001b[49m\u001b[38;5;241;43m1\u001b[39;49m\u001b[43m,\u001b[49m\u001b[38;5;241;43m2\u001b[39;49m\u001b[43m)\u001b[49m\n",
      "\u001b[1;31mTypeError\u001b[0m: test() takes 1 positional argument but 2 were given"
     ]
    }
   ],
   "source": [
    "# 매개변수 이용시 매개변수 개수에 맞춰서 사용이 필요\n",
    "def test(a):\n",
    "    print('test 함수입니다')\n",
    "    print(a)\n",
    "test(1,2) # 매개변수가 초과되어 입력"
   ]
  },
  {
   "cell_type": "code",
   "execution_count": 36,
   "id": "b753f7bd-51cd-4066-b608-d2e3a85bc8e4",
   "metadata": {},
   "outputs": [
    {
     "ename": "TypeError",
     "evalue": "test() missing 1 required positional argument: 'b'",
     "output_type": "error",
     "traceback": [
      "\u001b[1;31m---------------------------------------------------------------------------\u001b[0m",
      "\u001b[1;31mTypeError\u001b[0m                                 Traceback (most recent call last)",
      "Input \u001b[1;32mIn [36]\u001b[0m, in \u001b[0;36m<cell line: 4>\u001b[1;34m()\u001b[0m\n\u001b[0;32m      2\u001b[0m     \u001b[38;5;28mprint\u001b[39m(\u001b[38;5;124m'\u001b[39m\u001b[38;5;124mtest 함수입니다\u001b[39m\u001b[38;5;124m'\u001b[39m)\n\u001b[0;32m      3\u001b[0m     \u001b[38;5;28mprint\u001b[39m(a)\n\u001b[1;32m----> 4\u001b[0m \u001b[43mtest\u001b[49m\u001b[43m(\u001b[49m\u001b[38;5;241;43m1\u001b[39;49m\u001b[43m)\u001b[49m\n",
      "\u001b[1;31mTypeError\u001b[0m: test() missing 1 required positional argument: 'b'"
     ]
    }
   ],
   "source": [
    "def test(a,b):\n",
    "    print('test 함수입니다')\n",
    "    print(a)\n",
    "test(1) # 매개변수가 부족하게 입력"
   ]
  },
  {
   "cell_type": "code",
   "execution_count": 37,
   "id": "292fc5fd-ed30-44f8-a3f3-0d36bb8c78ed",
   "metadata": {},
   "outputs": [
    {
     "name": "stdout",
     "output_type": "stream",
     "text": [
      "test 함수입니다\n",
      "1 2\n"
     ]
    }
   ],
   "source": [
    "# 정확한 매개변수 사용\n",
    "def test(a, b):\n",
    "    print('test 함수입니다')\n",
    "    print(a, b)\n",
    "test(1, 2)"
   ]
  },
  {
   "cell_type": "markdown",
   "id": "70e51f94-0112-44a0-9835-f2be61df52d8",
   "metadata": {},
   "source": [
    "## 반환(Return)"
   ]
  },
  {
   "cell_type": "code",
   "execution_count": 10,
   "id": "9c121eba-0261-4b61-b400-1090062eb029",
   "metadata": {},
   "outputs": [],
   "source": [
    "# 최대값 구하기(리스트)\n",
    "def max_list_user(l):\n",
    "    max_n = l[0]\n",
    "    for n in l:\n",
    "        if max_n < n:\n",
    "            max_n = n\n",
    "    return(max_n) # 반환"
   ]
  },
  {
   "cell_type": "code",
   "execution_count": 11,
   "id": "834072aa-e4cc-4af9-9e8f-60560a1acfe8",
   "metadata": {},
   "outputs": [
    {
     "data": {
      "text/plain": [
       "5"
      ]
     },
     "execution_count": 11,
     "metadata": {},
     "output_type": "execute_result"
    }
   ],
   "source": [
    "max_list_user([1,2,3,4,5])"
   ]
  },
  {
   "cell_type": "code",
   "execution_count": 12,
   "id": "28463aae-e529-4076-8184-34d3a3d434fc",
   "metadata": {},
   "outputs": [
    {
     "name": "stdout",
     "output_type": "stream",
     "text": [
      "Hello\n"
     ]
    }
   ],
   "source": [
    "# 매개변수가 X, Return X\n",
    "def Hello():\n",
    "    print(\"Hello\")\n",
    "Hello()"
   ]
  },
  {
   "cell_type": "code",
   "execution_count": 13,
   "id": "b4606290-befa-4fa1-b4a6-d07b4fb5b2f8",
   "metadata": {},
   "outputs": [
    {
     "name": "stdout",
     "output_type": "stream",
     "text": [
      "2\n"
     ]
    }
   ],
   "source": [
    "# 매개변수 O, Return X\n",
    "def test2(a):\n",
    "    print(a)\n",
    "test2(2)"
   ]
  },
  {
   "cell_type": "code",
   "execution_count": 14,
   "id": "e2478fc0-9319-429b-bba3-e281e6b750f6",
   "metadata": {},
   "outputs": [
    {
     "data": {
      "text/plain": [
       "3"
      ]
     },
     "execution_count": 14,
     "metadata": {},
     "output_type": "execute_result"
    }
   ],
   "source": [
    "# 매개변수 X, Return O\n",
    "def test3():\n",
    "    return 1+2\n",
    "test3()"
   ]
  },
  {
   "cell_type": "code",
   "execution_count": 15,
   "id": "e3406f85-ea67-41bf-a7c1-04d804cab7ff",
   "metadata": {},
   "outputs": [
    {
     "data": {
      "text/plain": [
       "3"
      ]
     },
     "execution_count": 15,
     "metadata": {},
     "output_type": "execute_result"
    }
   ],
   "source": [
    "# 매개변수 O, Return O case 1\n",
    "def test4(a, b):\n",
    "    return a+b\n",
    "test4(1,2)"
   ]
  },
  {
   "cell_type": "code",
   "execution_count": 16,
   "id": "c851cd96-48e2-4a11-a77e-860013b9175f",
   "metadata": {},
   "outputs": [
    {
     "name": "stdout",
     "output_type": "stream",
     "text": [
      "a =  1 b =  2\n",
      "3\n",
      "a =  3 b =  4\n",
      "7\n"
     ]
    }
   ],
   "source": [
    "# 매개변수 O, Return O case 2\n",
    "def test4(a=1, b=2):\n",
    "    print(\"a = \", a, \"b = \",b)\n",
    "    return a+b\n",
    "print(test4())\n",
    "print(test4(3, 4))"
   ]
  },
  {
   "cell_type": "code",
   "execution_count": 17,
   "id": "e27063e5-5671-421a-8503-aa0abb0b28f4",
   "metadata": {},
   "outputs": [
    {
     "name": "stdout",
     "output_type": "stream",
     "text": [
      "a =  2 b =  1\n"
     ]
    },
    {
     "data": {
      "text/plain": [
       "3"
      ]
     },
     "execution_count": 17,
     "metadata": {},
     "output_type": "execute_result"
    }
   ],
   "source": [
    "# 매개변수 넣는 순서 지정\n",
    "test4(b=1, a=2)"
   ]
  },
  {
   "cell_type": "markdown",
   "id": "d14f59f2-5d10-4db0-85d4-d8e1afe67822",
   "metadata": {},
   "source": [
    "### 매개변수 개수 모를때"
   ]
  },
  {
   "cell_type": "code",
   "execution_count": 18,
   "id": "5824a14a-06d7-4934-a51a-8422fd9784e6",
   "metadata": {},
   "outputs": [
    {
     "name": "stdout",
     "output_type": "stream",
     "text": [
      "10\n"
     ]
    }
   ],
   "source": [
    "# 매개변수를 얼마나 사용할지 모를 때 사용.\n",
    "def hojin(*args):\n",
    "    ret = 0\n",
    "    for i in args:\n",
    "        ret += i\n",
    "    print(ret)\n",
    "hojin(1,2,3,4)"
   ]
  },
  {
   "cell_type": "markdown",
   "id": "3fa4147d-b02d-40db-83ac-4cbdea213bd9",
   "metadata": {},
   "source": [
    "---\n",
    "## Quiz\n",
    "계산기 - 인자 2개 / 1개는 `+ *`/ 1개는 값(몇개인지 모름.)"
   ]
  },
  {
   "cell_type": "code",
   "execution_count": 20,
   "id": "675e41d8-62e9-4c0f-afc8-0b0458fdea85",
   "metadata": {},
   "outputs": [],
   "source": [
    "# Quiz\n",
    "def calc(oper,*args):\n",
    "    num_sum, num_mul = 0, 1\n",
    "    if args == ():\n",
    "        return(\"Error code : 뒤에 값을 입력해주세요!\")\n",
    "    elif oper == '+':\n",
    "        for num in args:\n",
    "            num_sum += num\n",
    "        return num_sum\n",
    "    elif oper == '*':\n",
    "        for num in args:\n",
    "            num_mul *= num\n",
    "        return num_mul\n",
    "    else:\n",
    "        return('Error code : \\'+\\',\\'*\\' 두개 중 하나로 입력해주세요')\n",
    "    "
   ]
  },
  {
   "cell_type": "code",
   "execution_count": 21,
   "id": "02ccced7-d529-4b7a-b1a1-e4c5d382a932",
   "metadata": {},
   "outputs": [
    {
     "data": {
      "text/plain": [
       "52"
      ]
     },
     "execution_count": 21,
     "metadata": {},
     "output_type": "execute_result"
    }
   ],
   "source": [
    "# result sum\n",
    "calc('+', 1,2,3,3,12,3,4,1,23)"
   ]
  },
  {
   "cell_type": "code",
   "execution_count": 22,
   "id": "0273168b-d476-4900-9b16-11411a8f5d19",
   "metadata": {},
   "outputs": [
    {
     "data": {
      "text/plain": [
       "6"
      ]
     },
     "execution_count": 22,
     "metadata": {},
     "output_type": "execute_result"
    }
   ],
   "source": [
    "# result mul\n",
    "calc('*', 1,2,3)"
   ]
  },
  {
   "cell_type": "code",
   "execution_count": 23,
   "id": "3f378de4-f4d3-4d80-b878-44c48d5a760e",
   "metadata": {},
   "outputs": [
    {
     "data": {
      "text/plain": [
       "'Error code : 뒤에 값을 입력해주세요!'"
      ]
     },
     "execution_count": 23,
     "metadata": {},
     "output_type": "execute_result"
    }
   ],
   "source": [
    "calc('*')"
   ]
  },
  {
   "cell_type": "markdown",
   "id": "db644107-dda5-4b5f-90bb-d5ec388136b2",
   "metadata": {},
   "source": [
    "## 함수의 변수"
   ]
  },
  {
   "cell_type": "code",
   "execution_count": 38,
   "id": "3b539c83-21e3-4b7a-9226-5ff32040ccc1",
   "metadata": {},
   "outputs": [
    {
     "name": "stdout",
     "output_type": "stream",
     "text": [
      "2\n"
     ]
    }
   ],
   "source": [
    "# Case 1 - 1\n",
    "a = 1\n",
    "def test(a):\n",
    "    scope_var = a + 1\n",
    "    print(scope_var)\n",
    "test(a)\n",
    "# 오류 코드 :print(scope_var) why? 지역변수를 사용"
   ]
  },
  {
   "cell_type": "code",
   "execution_count": 39,
   "id": "8e7998b4-5bba-41ea-81ae-2bdf27f3db7b",
   "metadata": {},
   "outputs": [
    {
     "name": "stdout",
     "output_type": "stream",
     "text": [
      "2\n",
      "1\n"
     ]
    }
   ],
   "source": [
    "# Case 1 - 2\n",
    "def test2(a):\n",
    "    a += 1\n",
    "    print(a)\n",
    "a = 1\n",
    "test2(a) # \n",
    "print(a) # 함수 안에 사용된 a는 지역변수 a이다.\n",
    "# 출력된 a는 전역변수 a이다."
   ]
  },
  {
   "cell_type": "code",
   "execution_count": 40,
   "id": "cce4993f-63e1-40f1-af8b-eca6446f2411",
   "metadata": {},
   "outputs": [
    {
     "name": "stdout",
     "output_type": "stream",
     "text": [
      "2\n",
      "2\n"
     ]
    }
   ],
   "source": [
    "# Case 2\n",
    "def test3():\n",
    "    global a # Global를 사용해서 a 전역변수로 선언\n",
    "    # 사용이 거의 안됨.\n",
    "    a += 1 # 함수 내부에서 바꿔도 외부에서도 변경됨.\n",
    "    print(a)\n",
    "    \n",
    "a = 1\n",
    "test3()\n",
    "print(a) # 밖에 있는 a가 변경됨! "
   ]
  },
  {
   "cell_type": "markdown",
   "id": "3ba01f8e-b381-4fe4-8bb1-8e977c9655b2",
   "metadata": {},
   "source": [
    "## Key ward 파라미터\n",
    "* 매개변수의 이름을 모를때\n",
    "* `**` 사용\n",
    "* 딕셔너리 형태로 저장됨."
   ]
  },
  {
   "cell_type": "code",
   "execution_count": 41,
   "id": "3e5ce423-7a74-4fd1-b975-7b1ca215520c",
   "metadata": {},
   "outputs": [],
   "source": [
    "# **사용\n",
    "def print_kwargs(**kwargs):\n",
    "    return(kwargs)\n",
    "    "
   ]
  },
  {
   "cell_type": "code",
   "execution_count": 44,
   "id": "579c1977-23df-4329-878e-0c90243effea",
   "metadata": {},
   "outputs": [
    {
     "data": {
      "text/plain": [
       "{'a': 1, 'b': 2}"
      ]
     },
     "execution_count": 44,
     "metadata": {},
     "output_type": "execute_result"
    }
   ],
   "source": [
    "print_kwargs(a=1, b=2)"
   ]
  },
  {
   "cell_type": "code",
   "execution_count": 43,
   "id": "68f4151f-0fef-48d2-a2f0-673ac56f2353",
   "metadata": {},
   "outputs": [
    {
     "data": {
      "text/plain": [
       "dict"
      ]
     },
     "execution_count": 43,
     "metadata": {},
     "output_type": "execute_result"
    }
   ],
   "source": [
    "type(print_kwargs(a=1, b=2))"
   ]
  },
  {
   "cell_type": "markdown",
   "id": "f89c481f-c3a9-470e-a85b-6e201629f7ca",
   "metadata": {},
   "source": [
    "## 여러개의 값이 Return\n",
    "* `,`사용으로 반환 값을 여러개로 받을 수 있다.\n",
    "* 파이썬에서만 가능"
   ]
  },
  {
   "cell_type": "code",
   "execution_count": 45,
   "id": "db95740e-d0d2-4bf4-b78e-c8e742e99514",
   "metadata": {},
   "outputs": [
    {
     "name": "stdout",
     "output_type": "stream",
     "text": [
      "(3, 4)\n",
      "3\n",
      "4\n"
     ]
    }
   ],
   "source": [
    "def test(a,b,c):\n",
    "    return a+b, a+c\n",
    "ret1, ret2 = test(1,2,3)\n",
    "print(test(1,2,3))\n",
    "print(ret1)\n",
    "print(ret2)"
   ]
  },
  {
   "cell_type": "markdown",
   "id": "457e44fa-54cf-40c4-8775-a5c9df522d31",
   "metadata": {},
   "source": [
    "### Return 여러번 사용\n",
    "* return a\n",
    "* return b\n",
    "* 위와 같이 return문을 여러번 사용하면 안됨.\n",
    "* 함수는 return를 만나는 순간 종료됨."
   ]
  },
  {
   "cell_type": "code",
   "execution_count": 46,
   "id": "24084abc-a4fc-488c-a3ad-e6e535de1648",
   "metadata": {},
   "outputs": [
    {
     "data": {
      "text/plain": [
       "3"
      ]
     },
     "execution_count": 46,
     "metadata": {},
     "output_type": "execute_result"
    }
   ],
   "source": [
    "# test\n",
    "def test(a,b,c):\n",
    "    return a+b # 함수 종료 시점.\n",
    "    return a*c # 실행안됨 -> 의미없는 Code\n",
    "test(1,2,3) # 앞의 return을 만나고 함수가 종류됨."
   ]
  },
  {
   "cell_type": "markdown",
   "id": "e1c521a5-1257-4ec0-a3ba-39cd6c314a72",
   "metadata": {},
   "source": [
    "---\n",
    "# Random (난수) 추출\n",
    "* random module 사용"
   ]
  },
  {
   "cell_type": "code",
   "execution_count": 24,
   "id": "8deb792d-9902-4f84-a5f0-82566036652d",
   "metadata": {},
   "outputs": [],
   "source": [
    "import random\n",
    "\n",
    "# Random이므로 seed를 고정할 필요성이 있음. \n",
    "# 차후 데이터를 임의로 추출하는 경우가 발생하는데 \n",
    "# 이는 차후에 디버깅에서 사용하기 위해서 시드를 고정할 필요성이 있다.\n",
    "\n",
    "# Seed 고정\n",
    "random.seed(1) # 시드 고정"
   ]
  },
  {
   "cell_type": "markdown",
   "id": "81593d81-b3c7-4c7b-aedb-1f4102f3dc51",
   "metadata": {},
   "source": [
    "## Random 추출\n",
    "* `randint(a,b)` : a와 b 사이에서 아무런 수 \n",
    "* `random` : 0.0에서 1.0 사이의 실수를 반환"
   ]
  },
  {
   "cell_type": "code",
   "execution_count": 25,
   "id": "45b5ae74-26bf-4444-bd3b-cdb822b708fd",
   "metadata": {},
   "outputs": [
    {
     "name": "stdout",
     "output_type": "stream",
     "text": [
      "18\n"
     ]
    }
   ],
   "source": [
    "# 난수 추출\n",
    "print(random.randint(1,100)) # 1에서 100사이에서 랜덤 추출"
   ]
  },
  {
   "cell_type": "code",
   "execution_count": 26,
   "id": "4271b682-6d2c-4ed0-bf5c-3dc316790797",
   "metadata": {},
   "outputs": [
    {
     "name": "stdout",
     "output_type": "stream",
     "text": [
      "[583, 868, 822, 783, 65, 262, 121, 508, 780, 461, 484, 668, 389, 808, 215, 97, 500, 30, 915, 856, 400, 444, 623, 781, 786, 3, 713, 457, 273, 739, 822, 235, 606, 968, 105, 924, 326, 32, 23, 27, 666, 555, 10, 962, 903, 391, 703, 222, 993, 433, 744, 30, 541, 228, 783, 449, 962, 508, 567, 239, 354, 237, 694, 225, 780, 471, 976, 297, 949, 23, 427, 858, 939, 570, 945, 658, 103, 191, 645, 742, 881, 304, 124, 761, 341, 918, 739, 997, 729, 513, 959, 991, 433, 520, 850, 933, 687, 195, 311, 291]\n",
      "[602, 997, 904, 512, 867, 964, 518, 403, 604, 874, 36, 492, 249, 762, 817, 414, 425, 681, 178, 376, 562, 904, 720, 795, 691, 756, 384, 89, 450, 680, 521, 111, 798, 168, 534, 861, 403, 380, 502, 751, 31, 481, 45, 316, 721, 869, 630, 608, 593, 404, 663, 175, 173, 515, 233, 13, 790, 205, 553, 943, 881, 562, 238, 415, 527, 353, 976, 868, 592, 362, 471, 932, 276, 676, 562, 624, 981, 747, 6, 393, 803, 878, 841, 978, 908, 961, 759, 525, 829, 133, 532, 797, 575, 211, 437, 973, 58, 493, 891, 374]\n"
     ]
    }
   ],
   "source": [
    "random_list1 = []\n",
    "random_list2 = []\n",
    "\n",
    "for i in range(100): # _를 이용해서 사용하지 않는 변수를 대체한다.(for문 안에서)\n",
    "    random_list1.append(random.randint(1, 1000))\n",
    "print(random_list1)\n",
    "\n",
    "for _ in range(100): # _를 이용해서 사용하지 않는 변수를 대체한다.(for문 안에서)\n",
    "    random_list2.append(random.randint(1, 1000))\n",
    "print(random_list2)"
   ]
  },
  {
   "cell_type": "code",
   "execution_count": 30,
   "id": "b17cf8e5-12c3-40be-87f3-302e9efda3d0",
   "metadata": {},
   "outputs": [
    {
     "name": "stdout",
     "output_type": "stream",
     "text": [
      "997\n",
      "3\n"
     ]
    }
   ],
   "source": [
    "# temp = 0이라고 해서 선언해도 되는데 이는 Bad code\n",
    "# 초기값을 리스트 내에 있는 값을 사용하면 된다.\n",
    "\n",
    "# 가장 큰수 뽑기\n",
    "temp = random_list1[0]\n",
    "for i in random_list1:\n",
    "    if(i > temp):\n",
    "        temp = i\n",
    "print(temp)\n",
    "\n",
    "# 가장 작은수 뽑기\n",
    "temp = random_list1[0]\n",
    "for i in random_list1:\n",
    "    if(i < temp):\n",
    "        temp = i\n",
    "print(temp)"
   ]
  },
  {
   "cell_type": "code",
   "execution_count": 31,
   "id": "bb5f5248-a1c5-4155-8867-9f66c4094c99",
   "metadata": {},
   "outputs": [
    {
     "name": "stdout",
     "output_type": "stream",
     "text": [
      "[1, 2, 3, 4, 5, 6, 7, 8, 9, 10, 11, 12, 13, 14, 15, 16, 17, 18, 19, 20, 21, 22, 23, 24, 25, 26, 27, 28, 29, 30, 31, 32, 33, 34, 35, 36, 37, 38, 39, 40, 41, 42, 43, 44, 45]\n"
     ]
    }
   ],
   "source": [
    "lotto_num = list(range(1, 46))\n",
    "print(lotto_num)"
   ]
  },
  {
   "cell_type": "markdown",
   "id": "31bec183-3c48-4cd3-897f-68b54bea1a38",
   "metadata": {},
   "source": [
    "## shuffle\n",
    "* random.shuffle(a)\n",
    "* shuffle은 a의 내용을 임의로 섞어주는 역활"
   ]
  },
  {
   "cell_type": "code",
   "execution_count": 32,
   "id": "002ec533-10be-4b98-bade-f63e7763a0bc",
   "metadata": {},
   "outputs": [
    {
     "name": "stdout",
     "output_type": "stream",
     "text": [
      "[34, 22, 17, 43, 7, 10]\n",
      "[6, 18, 20, 17, 4, 2]\n",
      "[3, 21, 35, 18, 20, 26]\n",
      "[2, 45, 28, 18, 42, 9]\n",
      "[10, 2, 27, 26, 11, 39]\n",
      "[6, 7, 10, 8, 27, 41]\n",
      "[3, 35, 32, 29, 18, 31]\n",
      "[24, 13, 23, 7, 6, 43]\n",
      "[26, 10, 37, 9, 16, 44]\n",
      "[12, 23, 32, 5, 35, 22]\n"
     ]
    }
   ],
   "source": [
    "# Bad method\n",
    "for _ in range(10):\n",
    "    random.shuffle(lotto_num)\n",
    "    lotto_num_list = []\n",
    "    for i in range(6):\n",
    "        lotto_num_list.append(lotto_num[i])\n",
    "    # print(lotto_num_list)\n",
    "\n",
    "# Good method\n",
    "for _ in range(10):\n",
    "    random.shuffle(lotto_num)\n",
    "    print(lotto_num[:6])"
   ]
  }
 ],
 "metadata": {
  "kernelspec": {
   "display_name": "Python 3 (ipykernel)",
   "language": "python",
   "name": "python3"
  },
  "language_info": {
   "codemirror_mode": {
    "name": "ipython",
    "version": 3
   },
   "file_extension": ".py",
   "mimetype": "text/x-python",
   "name": "python",
   "nbconvert_exporter": "python",
   "pygments_lexer": "ipython3",
   "version": "3.9.12"
  }
 },
 "nbformat": 4,
 "nbformat_minor": 5
}
