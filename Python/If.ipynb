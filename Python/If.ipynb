{
 "cells": [
  {
   "cell_type": "markdown",
   "id": "b5942ec7-416c-4501-8fb0-efed5e9e2d31",
   "metadata": {},
   "source": [
    "# __If문__  \n",
    "+ if condition :명령  \n",
    "+ 조건문 뒤에는 indent(tab or space4)\n",
    "---"
   ]
  },
  {
   "cell_type": "markdown",
   "id": "5b55c192-9b1e-4c90-ad3f-b6af7fbba068",
   "metadata": {},
   "source": [
    "## if 사용법"
   ]
  },
  {
   "cell_type": "code",
   "execution_count": 1,
   "id": "351e06c6-1c25-4de2-9cde-6f8c82cd7506",
   "metadata": {},
   "outputs": [
    {
     "name": "stdout",
     "output_type": "stream",
     "text": [
      "True\n"
     ]
    }
   ],
   "source": [
    "if 1>0: # 조건이 참이면 실행\n",
    "    print('True')"
   ]
  },
  {
   "cell_type": "code",
   "execution_count": 2,
   "id": "89c6ec09-af19-411c-9f25-17c82c2575ef",
   "metadata": {},
   "outputs": [
    {
     "name": "stdout",
     "output_type": "stream",
     "text": [
      "True\n"
     ]
    }
   ],
   "source": [
    "if 1: # 0이 아닌 값  == True \n",
    "    print('True')"
   ]
  },
  {
   "cell_type": "markdown",
   "id": "7e2015c6-bf20-4fd4-bff0-c0694dd5c66c",
   "metadata": {
    "tags": []
   },
   "source": [
    "### 조건문의 거짓일 때"
   ]
  },
  {
   "cell_type": "code",
   "execution_count": 3,
   "id": "884ae1a1-10f9-4f87-8952-c018a6f53b4a",
   "metadata": {},
   "outputs": [],
   "source": [
    "if False:\n",
    "    print('False') # 실행 안됨"
   ]
  },
  {
   "cell_type": "code",
   "execution_count": 4,
   "id": "18ba82ba-1175-4148-9e9c-a49b7c7329f2",
   "metadata": {},
   "outputs": [],
   "source": [
    "if 0: # \n",
    "    print('False') # 실행 안됨"
   ]
  },
  {
   "cell_type": "code",
   "execution_count": 5,
   "id": "26d754dd-b8d4-4b87-b70c-ad07686c3973",
   "metadata": {},
   "outputs": [],
   "source": [
    "if '': # 공백 == False\n",
    "    print('False')"
   ]
  },
  {
   "cell_type": "markdown",
   "id": "3ba41b7a-493a-4595-9b42-8851552757c7",
   "metadata": {},
   "source": [
    "## 논리 연산자\n",
    "* And 둘 다 참 -> 참\n",
    "* Or 하나만 참 -> 참\n",
    "* Not (반대)"
   ]
  },
  {
   "cell_type": "code",
   "execution_count": 6,
   "id": "65484f3a-3f87-4a4b-be7a-d85ae941112a",
   "metadata": {},
   "outputs": [
    {
     "data": {
      "text/plain": [
       "True"
      ]
     },
     "execution_count": 6,
     "metadata": {},
     "output_type": "execute_result"
    }
   ],
   "source": [
    "(3>1) and (4>2) # and"
   ]
  },
  {
   "cell_type": "code",
   "execution_count": 7,
   "id": "54df37af-fcd6-442e-b303-c8b377666c06",
   "metadata": {},
   "outputs": [
    {
     "data": {
      "text/plain": [
       "True"
      ]
     },
     "execution_count": 7,
     "metadata": {},
     "output_type": "execute_result"
    }
   ],
   "source": [
    "(3>1) or (4<2) # or"
   ]
  },
  {
   "cell_type": "code",
   "execution_count": 8,
   "id": "84a66924-1bd2-49ad-af09-f74f09e26d5f",
   "metadata": {},
   "outputs": [
    {
     "data": {
      "text/plain": [
       "True"
      ]
     },
     "execution_count": 8,
     "metadata": {},
     "output_type": "execute_result"
    }
   ],
   "source": [
    "not 0 # not"
   ]
  },
  {
   "cell_type": "markdown",
   "id": "ec7a451c-90dc-4f9c-98fb-dd40a3f1a101",
   "metadata": {},
   "source": [
    "## 포함, 비포함\n",
    "* `in` : 포함되면 True \n",
    "* `not in` : 포함 안되면 True"
   ]
  },
  {
   "cell_type": "code",
   "execution_count": 9,
   "id": "e8e7ca97-d0f2-4ec6-ac08-f06fa608c272",
   "metadata": {},
   "outputs": [
    {
     "data": {
      "text/plain": [
       "True"
      ]
     },
     "execution_count": 9,
     "metadata": {},
     "output_type": "execute_result"
    }
   ],
   "source": [
    "lst = [1,2,3]\n",
    "3 in lst # in"
   ]
  },
  {
   "cell_type": "code",
   "execution_count": 10,
   "id": "c476599b-c7af-4e9a-8fbc-6f502846ab49",
   "metadata": {},
   "outputs": [
    {
     "data": {
      "text/plain": [
       "False"
      ]
     },
     "execution_count": 10,
     "metadata": {},
     "output_type": "execute_result"
    }
   ],
   "source": [
    "4 in lst"
   ]
  },
  {
   "cell_type": "code",
   "execution_count": 11,
   "id": "612bd2b1-d86d-4041-a8f2-42d1e8cc0913",
   "metadata": {},
   "outputs": [
    {
     "data": {
      "text/plain": [
       "True"
      ]
     },
     "execution_count": 11,
     "metadata": {},
     "output_type": "execute_result"
    }
   ],
   "source": [
    "'a' in 'apple' # 문자열도 가능"
   ]
  },
  {
   "cell_type": "code",
   "execution_count": 12,
   "id": "e1980206-02d2-47ad-ba7d-ffaddb807b6b",
   "metadata": {},
   "outputs": [
    {
     "data": {
      "text/plain": [
       "False"
      ]
     },
     "execution_count": 12,
     "metadata": {},
     "output_type": "execute_result"
    }
   ],
   "source": [
    "'a' in ['apple','banana'] #리스트 안에 'a'라는 원소 없음"
   ]
  },
  {
   "cell_type": "markdown",
   "id": "cf1588a7-6866-49db-9531-838cb3cbf532",
   "metadata": {},
   "source": [
    "## if-elif-else"
   ]
  },
  {
   "cell_type": "code",
   "execution_count": 13,
   "id": "91d91652-1952-405a-9dc6-22d0d6b59452",
   "metadata": {},
   "outputs": [
    {
     "name": "stdout",
     "output_type": "stream",
     "text": [
      "a는 5보다 작습니다.\n"
     ]
    }
   ],
   "source": [
    "# if\n",
    "a=1\n",
    "if a<5:\n",
    "    print('a는 5보다 작습니다.')"
   ]
  },
  {
   "cell_type": "code",
   "execution_count": 14,
   "id": "c021a9d6-a621-40c6-9a70-45e7308e3ee4",
   "metadata": {},
   "outputs": [
    {
     "name": "stdout",
     "output_type": "stream",
     "text": [
      "a는 10보다 작습니다.\n"
     ]
    }
   ],
   "source": [
    "# if - elif\n",
    "a=6\n",
    "if a<5:\n",
    "    print('a는 5보다 작습니다.') #실행안됨\n",
    "elif a<10:\n",
    "    print('a는 10보다 작습니다.') #실행됨"
   ]
  },
  {
   "cell_type": "code",
   "execution_count": 15,
   "id": "0811580b-5c76-4ba3-aea7-34772edebceb",
   "metadata": {},
   "outputs": [
    {
     "name": "stdout",
     "output_type": "stream",
     "text": [
      "a는 5보다 작습니다.\n",
      "a는 10보다 작습니다.\n"
     ]
    }
   ],
   "source": [
    "# if x 2\n",
    "a=1\n",
    "if a<5:\n",
    "    print('a는 5보다 작습니다.') #실행됨 \n",
    "if a<10:\n",
    "    print('a는 10보다 작습니다.') #실행됨 "
   ]
  },
  {
   "cell_type": "code",
   "execution_count": 16,
   "id": "d7c62d2e-84aa-4440-91e4-f218510ca729",
   "metadata": {},
   "outputs": [
    {
     "name": "stdout",
     "output_type": "stream",
     "text": [
      "a는 10보다 큽니다\n"
     ]
    }
   ],
   "source": [
    "# if - elif - else\n",
    "a=15\n",
    "if a<5:\n",
    "    print('a는 5보다 작습니다.') #실행안됨 \n",
    "elif a<10:\n",
    "    print('a는 10보다 작습니다.') #실행안됨 \n",
    "else:\n",
    "    print('a는 10보다 큽니다') #실행됨"
   ]
  },
  {
   "cell_type": "code",
   "execution_count": 17,
   "id": "7360d517-e76e-4562-b6e1-27f4cf0709bb",
   "metadata": {},
   "outputs": [
    {
     "name": "stdout",
     "output_type": "stream",
     "text": [
      "True\n",
      "True\n"
     ]
    }
   ],
   "source": [
    "# a가 0보다 크고 5보다 작다\n",
    "a=1\n",
    "print((a>0)and(a<5))\n",
    "print(0<a<5) #good"
   ]
  },
  {
   "cell_type": "markdown",
   "id": "42628701-7142-4896-b05f-87b54e2668af",
   "metadata": {},
   "source": [
    "## if 중첩문  \n",
    "+ `isinstance` 참고\n",
    "* `isinstance(a, b)` -> a는 변수, b의 자료형이 맞는지 판별 or a가 데이터 값, 객체 b는 확인하고자 하는 데이터의 타입, 클래스"
   ]
  },
  {
   "cell_type": "code",
   "execution_count": 19,
   "id": "ff5b6488-bb67-45f9-86cf-275d71f3846c",
   "metadata": {},
   "outputs": [
    {
     "data": {
      "text/plain": [
       "True"
      ]
     },
     "execution_count": 19,
     "metadata": {},
     "output_type": "execute_result"
    }
   ],
   "source": [
    "isinstance(0,int)"
   ]
  },
  {
   "cell_type": "code",
   "execution_count": 20,
   "id": "fa1597b2-a951-4ea2-93d6-43e4a60aa46e",
   "metadata": {},
   "outputs": [
    {
     "data": {
      "text/plain": [
       "True"
      ]
     },
     "execution_count": 20,
     "metadata": {},
     "output_type": "execute_result"
    }
   ],
   "source": [
    "isinstance('0', str)"
   ]
  },
  {
   "cell_type": "code",
   "execution_count": 21,
   "id": "5f0c65db-653b-4b87-80ce-5a071185c566",
   "metadata": {},
   "outputs": [
    {
     "name": "stdout",
     "output_type": "stream",
     "text": [
      "num은 0입니다\n"
     ]
    }
   ],
   "source": [
    "# if 문 안에 if문\n",
    "num = 0\n",
    "if isinstance(num, int):\n",
    "    if num % 2 == 1:\n",
    "        print('홀수')\n",
    "    elif num == 0:\n",
    "        print('num은 0입니다')\n",
    "    else:\n",
    "        print('짝수')\n",
    "else:\n",
    "    print('num은 문자열 입니다!')\n",
    "    "
   ]
  },
  {
   "cell_type": "markdown",
   "id": "f66140b8-1146-46ba-9951-53c31301ae75",
   "metadata": {},
   "source": [
    "# Quiz\n",
    "* 홀짝 판별\n",
    "-> 2로 나눴을 때 1 or 0으로 구분"
   ]
  },
  {
   "cell_type": "code",
   "execution_count": 18,
   "id": "59da26f5-1d4a-4148-8503-02689aceca76",
   "metadata": {},
   "outputs": [
    {
     "name": "stdin",
     "output_type": "stream",
     "text": [
      "숫자를 입력하세요 :  21\n"
     ]
    },
    {
     "name": "stdout",
     "output_type": "stream",
     "text": [
      "홀\n"
     ]
    }
   ],
   "source": [
    "num = int(input('숫자를 입력하세요 : '))\n",
    "if num%2==1:\n",
    "    print('홀')\n",
    "else:\n",
    "    print('짝')"
   ]
  }
 ],
 "metadata": {
  "kernelspec": {
   "display_name": "Python 3 (ipykernel)",
   "language": "python",
   "name": "python3"
  },
  "language_info": {
   "codemirror_mode": {
    "name": "ipython",
    "version": 3
   },
   "file_extension": ".py",
   "mimetype": "text/x-python",
   "name": "python",
   "nbconvert_exporter": "python",
   "pygments_lexer": "ipython3",
   "version": "3.9.12"
  }
 },
 "nbformat": 4,
 "nbformat_minor": 5
}
