{
 "cells": [
  {
   "cell_type": "markdown",
   "id": "d02361ef-4e14-4900-b994-1a592090087c",
   "metadata": {},
   "source": [
    "# 사용자의 입력값 받기\n",
    "---"
   ]
  },
  {
   "cell_type": "markdown",
   "id": "49692ac5-e9f1-4fc3-9ce0-bcaa83fecade",
   "metadata": {},
   "source": [
    "# input\n",
    "* `input()`\n",
    "* 입력받은 데이터 형식은 str형\n",
    "* 차후에 사용하기 위해서 형 변환이 필요함\n",
    "* 사용시 안에 문자를 넣어서 알려줄 수 있음"
   ]
  },
  {
   "cell_type": "code",
   "execution_count": 1,
   "id": "4a1a38e2-1df0-48af-b951-2db0e143c365",
   "metadata": {},
   "outputs": [
    {
     "name": "stdin",
     "output_type": "stream",
     "text": [
      " 안녕하세요\n"
     ]
    }
   ],
   "source": [
    "# 기본 사용\n",
    "text = input()"
   ]
  },
  {
   "cell_type": "code",
   "execution_count": 2,
   "id": "7496befe-1e76-4e01-97ea-0b744f47fc68",
   "metadata": {},
   "outputs": [
    {
     "name": "stdin",
     "output_type": "stream",
     "text": [
      "나이를 출력하세요 21\n"
     ]
    }
   ],
   "source": [
    "# 안에 무엇을 물어볼껀지를 넣을 수 있다.\n",
    "user_age = input('나이를 출력하세요')"
   ]
  },
  {
   "cell_type": "markdown",
   "id": "6a983f0d-c545-4514-85b1-84978ba56f46",
   "metadata": {},
   "source": [
    "## 예외처리\n",
    "* `try .... except`  -> try문을 실행하다가 오류가 발생하면 except문이 실행된다."
   ]
  },
  {
   "cell_type": "code",
   "execution_count": 3,
   "id": "2f4ac8c3-68be-4c40-bab2-8271809b393c",
   "metadata": {},
   "outputs": [
    {
     "name": "stdout",
     "output_type": "stream",
     "text": [
      "21\n"
     ]
    }
   ],
   "source": [
    "try:\n",
    "    print(int(user_age))\n",
    "except:\n",
    "    print('숫자를 입력해 주세요!')"
   ]
  },
  {
   "cell_type": "markdown",
   "id": "92249af6-86a5-4cc5-b89d-e0afb55018b3",
   "metadata": {},
   "source": [
    "# Quiz\n",
    "사용자의 나이를 입력받으세요.  \n",
    "1. 20세 이상이면 `'성인', 아니면 '미성년자'`라고 출력하는 코드 작성  \n",
    "2. `\"20세 미만, 20대, 30대, 40대 이상\"`을 출력하는 코드를 작성하세요  \n",
    "---\n",
    "사용자의 이름을 입력받으세요.  \n",
    "1. 사용자의 성을 출력해주는 코드를 작성하세요  \n",
    "2. 사용자의 성이 `popular_last_name = [\"김\", \"이\", \"박\"]`에 포함되는지 출력해주는 코드를 작성하세요.   \n",
    "3. 사용자의 이름이 `user_info = {\"홍길동\":24, \"유재석\":26, \"김종국\":27}` 에 해당하는 이름이면 나이를 출력해주는 코드를 작성하세요  \n",
    "---\n",
    "3. 사용자로부터 세 개의 숫자를 입력받아 가장 큰 수를 출력하세요.(입력형식: 1,2,3)  \n",
    "4. 사용자로부터 주민등록번호를 입력받아, 뒷자리의 숫자가 1또는 3이면 \"남자\", 2또는 4면 \"여자\", 이외에는 \"오류\"라고 출력하세요.(입력 형식: 900000-1000000)  "
   ]
  },
  {
   "cell_type": "code",
   "execution_count": 5,
   "id": "9d7e842c-2557-4ee0-9c54-2ad49b5d5f89",
   "metadata": {},
   "outputs": [
    {
     "name": "stdin",
     "output_type": "stream",
     "text": [
      "사용자의 나이를 입력하세요 :  20\n"
     ]
    },
    {
     "name": "stdout",
     "output_type": "stream",
     "text": [
      "성인\n"
     ]
    }
   ],
   "source": [
    "# Quiz 1-1\n",
    "age = int(input('사용자의 나이를 입력하세요 : '))\n",
    "if age >= 20:\n",
    "    print('성인')\n",
    "else:\n",
    "    print('미성년자')    "
   ]
  },
  {
   "cell_type": "code",
   "execution_count": 6,
   "id": "89d935b6-07bb-44e4-bf54-56f51c7a7b98",
   "metadata": {},
   "outputs": [
    {
     "name": "stdin",
     "output_type": "stream",
     "text": [
      "사용자의 나이를 입력하세요 :  40\n"
     ]
    },
    {
     "name": "stdout",
     "output_type": "stream",
     "text": [
      "40대 이상\n"
     ]
    }
   ],
   "source": [
    "# Quiz 1-2\n",
    "age = int(input('사용자의 나이를 입력하세요 : '))\n",
    "if age >= 40:\n",
    "    print('40대 이상')\n",
    "elif age >= 30:\n",
    "    print('30대')\n",
    "elif age >= 20:\n",
    "    print('20대')\n",
    "else:\n",
    "    print('20대 미만')          "
   ]
  },
  {
   "cell_type": "code",
   "execution_count": 7,
   "id": "fb201328-c777-4a47-a32b-f58135e2ab77",
   "metadata": {},
   "outputs": [
    {
     "name": "stdin",
     "output_type": "stream",
     "text": [
      "사용자의 이름을 입력하세요 :  오승범\n"
     ]
    },
    {
     "name": "stdout",
     "output_type": "stream",
     "text": [
      "오\n",
      "False\n",
      "user_info에 없는 이름입니다.\n"
     ]
    }
   ],
   "source": [
    "# Quiz 2\n",
    "name = input('사용자의 이름을 입력하세요 : ')\n",
    "\n",
    "print(name[0])\n",
    "\n",
    "popular_last_name = [\"김\", \"이\", \"박\"]   \n",
    "if name[0] in popular_last_name:\n",
    "    print(\"True\")\n",
    "else:\n",
    "    print(\"False\")\n",
    "    \n",
    "user_info = {\"홍길동\":24, \"유재석\":26, \"김종국\":27}\n",
    "if name in list(user_info.keys()):\n",
    "    print(f\"이름 : {name}, 나이 : {user_info[name]} \")\n",
    "    print(\"이름 : \", name , \"나이 : \", user_info[name])\n",
    "else:\n",
    "    print('user_info에 없는 이름입니다.')"
   ]
  },
  {
   "cell_type": "code",
   "execution_count": 8,
   "id": "5c4d3a71-40dd-49cb-a77c-d22da92633f9",
   "metadata": {},
   "outputs": [
    {
     "name": "stdin",
     "output_type": "stream",
     "text": [
      "세개의 숫자를 입력해 주세요 :  10 20 30\n"
     ]
    },
    {
     "name": "stdout",
     "output_type": "stream",
     "text": [
      "['10', '20', '30']\n",
      "30\n"
     ]
    },
    {
     "name": "stdin",
     "output_type": "stream",
     "text": [
      "세개의 숫자를 입력해 주세요 :  10 20 30\n"
     ]
    },
    {
     "name": "stdout",
     "output_type": "stream",
     "text": [
      "[10, 20, 30]\n"
     ]
    },
    {
     "data": {
      "text/plain": [
       "30"
      ]
     },
     "execution_count": 8,
     "metadata": {},
     "output_type": "execute_result"
    }
   ],
   "source": [
    "# Quiz3\n",
    "# bad code -> error 발생 x\n",
    "num = input('세개의 숫자를 입력해 주세요 : ').split(\" \") # ASCII 계산\n",
    "print(num)\n",
    "print(max(num))\n",
    "\n",
    "\n",
    "# another method\n",
    "# good code -> error \n",
    "num = list(map(int, input('세개의 숫자를 입력해 주세요 : ').split(\" \"))) # 숫자로 계산\n",
    "print(num)\n",
    "max(num)"
   ]
  },
  {
   "cell_type": "code",
   "execution_count": 10,
   "id": "64bac6b1-5c54-4735-965e-8df725460c0e",
   "metadata": {},
   "outputs": [
    {
     "name": "stdin",
     "output_type": "stream",
     "text": [
      "주민등록번호를 입력해 주세요 :  121212-1212121\n"
     ]
    },
    {
     "name": "stdout",
     "output_type": "stream",
     "text": [
      "1\n",
      "남자\n"
     ]
    }
   ],
   "source": [
    "# Quiz4\n",
    "personal_number = input('주민등록번호를 입력해 주세요 : ').split(\"-\")\n",
    "\n",
    "num = str(personal_number[1])[0]\n",
    "# 같은 코드 \n",
    "# num = jumin[jumin.find('-') + 1]\n",
    "\n",
    "print(num)\n",
    "if num == '1' or num == '3':\n",
    "    print(\"남자\")\n",
    "elif num == '2' or num == '4':\n",
    "    print(\"여자\")\n",
    "else:\n",
    "    print(\"오류\")"
   ]
  }
 ],
 "metadata": {
  "kernelspec": {
   "display_name": "Python 3 (ipykernel)",
   "language": "python",
   "name": "python3"
  },
  "language_info": {
   "codemirror_mode": {
    "name": "ipython",
    "version": 3
   },
   "file_extension": ".py",
   "mimetype": "text/x-python",
   "name": "python",
   "nbconvert_exporter": "python",
   "pygments_lexer": "ipython3",
   "version": "3.9.12"
  }
 },
 "nbformat": 4,
 "nbformat_minor": 5
}
