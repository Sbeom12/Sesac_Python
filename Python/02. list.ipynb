{
 "cells": [
  {
   "cell_type": "markdown",
   "id": "d02aad0b-b517-43a5-8138-8ecf46f8ac91",
   "metadata": {},
   "source": [
    "# 파이썬 기초 1\n",
    "* list, set, dictionary, tuple"
   ]
  },
  {
   "cell_type": "markdown",
   "id": "81ff881c-e4cf-4480-8f06-9caff7083158",
   "metadata": {},
   "source": [
    "## List 리스트\n",
    "* 대괄호 사용"
   ]
  },
  {
   "cell_type": "code",
   "execution_count": 1,
   "id": "0161d8b1-9527-4cf1-b572-66d88a47075f",
   "metadata": {},
   "outputs": [],
   "source": [
    "# 기초\n",
    "i = [1,2,3,4]"
   ]
  },
  {
   "cell_type": "code",
   "execution_count": 2,
   "id": "3591e3e5-b15b-4dcd-87d7-1ef2acf90773",
   "metadata": {},
   "outputs": [
    {
     "data": {
      "text/plain": [
       "[1, 2, 3, 4]"
      ]
     },
     "execution_count": 2,
     "metadata": {},
     "output_type": "execute_result"
    }
   ],
   "source": [
    "i"
   ]
  },
  {
   "cell_type": "code",
   "execution_count": 3,
   "id": "57e29b8a-0244-407b-b814-6082fdd69922",
   "metadata": {},
   "outputs": [
    {
     "data": {
      "text/plain": [
       "list"
      ]
     },
     "execution_count": 3,
     "metadata": {},
     "output_type": "execute_result"
    }
   ],
   "source": [
    "type(i) # 타입 확인"
   ]
  },
  {
   "cell_type": "code",
   "execution_count": 6,
   "id": "9721c54a-002b-4639-860f-88526c412ee2",
   "metadata": {},
   "outputs": [],
   "source": [
    "li = [1, '2', True]"
   ]
  },
  {
   "cell_type": "markdown",
   "id": "78c666f9-d9d4-42f4-b434-b661838c69a8",
   "metadata": {},
   "source": [
    "* 다양한 자료형을 포함해서 리스트 선언이 가능\n",
    "* 이는 장점으로 생각할 수 있으나, 하지만 차후 데이터 사용시 숫자형인지 문자형인지 구분이 잘 안되는 단점 존재"
   ]
  },
  {
   "cell_type": "markdown",
   "id": "d365a29d-01c1-4468-b9ac-ec30af4cce3f",
   "metadata": {},
   "source": [
    "## list 선언 방식\n",
    "* 아래에 내용을 넣어서 선언도 가능하다"
   ]
  },
  {
   "cell_type": "code",
   "execution_count": 8,
   "id": "3d95ca61-0f44-4f2f-80ba-7f5666e9990d",
   "metadata": {},
   "outputs": [],
   "source": [
    "list1 = [] # 빈 리스트 선언1"
   ]
  },
  {
   "cell_type": "code",
   "execution_count": 9,
   "id": "ad4cc3e3-78b4-4dc0-9bad-01c1900e65a7",
   "metadata": {},
   "outputs": [],
   "source": [
    "list2 = list() # 빈 리스트 선언2"
   ]
  },
  {
   "cell_type": "code",
   "execution_count": 10,
   "id": "318fffae-71a9-45e2-bd45-7470b9ec244c",
   "metadata": {},
   "outputs": [
    {
     "data": {
      "text/plain": [
       "([], [])"
      ]
     },
     "execution_count": 10,
     "metadata": {},
     "output_type": "execute_result"
    }
   ],
   "source": [
    "list1, list2 # 확인"
   ]
  },
  {
   "cell_type": "markdown",
   "id": "2707e585-1bd8-4055-bc08-8a80f53531c8",
   "metadata": {},
   "source": [
    "## list 인덱싱(indexing) & 슬라이싱(slicing)\n",
    "* 리스트 요소에 접근하는 방법\n",
    "* list[A], list[A:B], list[A:B:C]의 꼴이 존재 \n",
    "    * A는 시작지점 혹은 행당 위치\n",
    "    * B는 끝을 의미하거나 해당 위치까지를 의미\n",
    "    * C는 리스트의 간격을 의미한다."
   ]
  },
  {
   "cell_type": "code",
   "execution_count": 12,
   "id": "c4a0ee55-69d9-4419-a09d-f0b4fe69ba53",
   "metadata": {},
   "outputs": [],
   "source": [
    "num = [1,2,3,4,5] # 리스트 하나 선언"
   ]
  },
  {
   "cell_type": "code",
   "execution_count": 13,
   "id": "f54824d2-00af-4d7c-9301-5b934ea3ba66",
   "metadata": {},
   "outputs": [
    {
     "data": {
      "text/plain": [
       "3"
      ]
     },
     "execution_count": 13,
     "metadata": {},
     "output_type": "execute_result"
    }
   ],
   "source": [
    "num[2] # list 0번째 요소부터 있다! 2는 3번째 요소이다."
   ]
  },
  {
   "cell_type": "code",
   "execution_count": 15,
   "id": "8d5e4dc1-492c-405f-957c-35b9250fc7f3",
   "metadata": {},
   "outputs": [
    {
     "data": {
      "text/plain": [
       "5"
      ]
     },
     "execution_count": 15,
     "metadata": {},
     "output_type": "execute_result"
    }
   ],
   "source": [
    "num[-1] # 맨 뒤에 있는 요소 출력"
   ]
  },
  {
   "cell_type": "code",
   "execution_count": 16,
   "id": "c32ee476-67ee-4d0d-8abc-48ee4620da50",
   "metadata": {},
   "outputs": [
    {
     "data": {
      "text/plain": [
       "[3, 4, 5]"
      ]
     },
     "execution_count": 16,
     "metadata": {},
     "output_type": "execute_result"
    }
   ],
   "source": [
    "num[2:] # 3번째 요소부터 끝까지"
   ]
  },
  {
   "cell_type": "code",
   "execution_count": 17,
   "id": "1ee1b39e-717f-4198-868a-c97a23bcbcbf",
   "metadata": {},
   "outputs": [
    {
     "data": {
      "text/plain": [
       "[1, 2, 3, 4]"
      ]
     },
     "execution_count": 17,
     "metadata": {},
     "output_type": "execute_result"
    }
   ],
   "source": [
    "num[:-1] # 맨 뒤의 자료형를 제외하고 나머지 자료들을 다 들고 옴"
   ]
  },
  {
   "cell_type": "markdown",
   "id": "9a78a44b-e27b-43fa-9c9e-e129cf76fc68",
   "metadata": {},
   "source": [
    "* 일반적으로 인공지능에서 data 맨뒤에 label된 데이터를 가지고 있고 있기 때문에 구분해서 사용"
   ]
  },
  {
   "cell_type": "code",
   "execution_count": 19,
   "id": "6cfdcbd1-53ad-42ba-992d-eaed6af39acf",
   "metadata": {},
   "outputs": [
    {
     "data": {
      "text/plain": [
       "[1, 3, 5]"
      ]
     },
     "execution_count": 19,
     "metadata": {},
     "output_type": "execute_result"
    }
   ],
   "source": [
    "num[:5:2] # 5번째 요소까지 까지 2의 간격으로 출력"
   ]
  },
  {
   "cell_type": "code",
   "execution_count": 20,
   "id": "429ca41a-53c0-452f-b524-5bea12adc469",
   "metadata": {},
   "outputs": [
    {
     "data": {
      "text/plain": [
       "[5, 4, 3, 2, 1]"
      ]
     },
     "execution_count": 20,
     "metadata": {},
     "output_type": "execute_result"
    }
   ],
   "source": [
    "num[::-1] # 뒤집어서 뒤부터 출력"
   ]
  },
  {
   "cell_type": "markdown",
   "id": "26a19619-e6be-4618-8f30-24f2fb764038",
   "metadata": {},
   "source": [
    "## 2중 list\n",
    "* 리스트 안에 리스트\n",
    "* list[list[]]"
   ]
  },
  {
   "cell_type": "code",
   "execution_count": 27,
   "id": "0f333f18-0dea-4bc2-b86f-ecd9ef037c67",
   "metadata": {},
   "outputs": [],
   "source": [
    "# 2중 list 선언 가독성을 위해서 리스트끼리를 구분해서 사용\n",
    "mat = [[1,2,3,4],\n",
    "        [5,6,7,8],\n",
    "        [9,10,11,12]]"
   ]
  },
  {
   "cell_type": "code",
   "execution_count": 28,
   "id": "5015afbe-93aa-44bc-8ee7-340415750fc0",
   "metadata": {},
   "outputs": [
    {
     "data": {
      "text/plain": [
       "[[1, 2, 3, 4], [5, 6, 7, 8], [9, 10, 11, 12]]"
      ]
     },
     "execution_count": 28,
     "metadata": {},
     "output_type": "execute_result"
    }
   ],
   "source": [
    "mat # 확인"
   ]
  },
  {
   "cell_type": "markdown",
   "id": "41b715f6-2ad5-4e2b-94e5-583a56b8f70e",
   "metadata": {},
   "source": [
    "### 관련 연산 indexing & slicing"
   ]
  },
  {
   "cell_type": "code",
   "execution_count": 29,
   "id": "95d4ce76-fcb3-445c-b715-178126df8319",
   "metadata": {},
   "outputs": [
    {
     "data": {
      "text/plain": [
       "[1, 2, 3, 4]"
      ]
     },
     "execution_count": 29,
     "metadata": {},
     "output_type": "execute_result"
    }
   ],
   "source": [
    "mat[0] # 0번쨰 요소에 접근, 큰 틀로 되어 있으므로 list의 행에 먼저 접근"
   ]
  },
  {
   "cell_type": "code",
   "execution_count": 31,
   "id": "ca339507-78cd-44a7-87f2-f6edac77a159",
   "metadata": {},
   "outputs": [
    {
     "data": {
      "text/plain": [
       "1"
      ]
     },
     "execution_count": 31,
     "metadata": {},
     "output_type": "execute_result"
    }
   ],
   "source": [
    "mat[0][0] #0번째 요소의 0번째 요소에 접근, 큰 요소 중 0번째 요소 선택 후 그 안에 리스트에서 0번째 요소 선택"
   ]
  },
  {
   "cell_type": "code",
   "execution_count": 33,
   "id": "94b6cf2d-bf87-4581-93fb-e3d6f687763d",
   "metadata": {},
   "outputs": [
    {
     "data": {
      "text/plain": [
       "[2, 3]"
      ]
     },
     "execution_count": 33,
     "metadata": {},
     "output_type": "execute_result"
    }
   ],
   "source": [
    "# slicing\n",
    "mat[0][1:3] # 0번쨰 요소에서 1에서 2까지의 요소 출력"
   ]
  },
  {
   "cell_type": "code",
   "execution_count": 35,
   "id": "a9e65100-4639-477c-bdf1-59cf4e4dab03",
   "metadata": {},
   "outputs": [
    {
     "data": {
      "text/plain": [
       "[[9, 10, 11, 12]]"
      ]
     },
     "execution_count": 35,
     "metadata": {},
     "output_type": "execute_result"
    }
   ],
   "source": [
    "mat2[1:][1:3] # 우리가 예상한것과 다름."
   ]
  },
  {
   "cell_type": "markdown",
   "id": "4bb7a504-42a9-40de-a278-399581c6029f",
   "metadata": {},
   "source": [
    "* 계산 법칙이 조금 깨짐\n",
    "* 해당 계산방식이 우리의 예상과 다르기 때문에 2중 리스트를 사용하기 위해서는 차후 한단계씩 차근차근 선언해서 가져와야한다.\n",
    "* 따라서 이러한 방식으로 리스트를 연산하지 않고 우리가 예상한대로 작동하는 pandas를 사용할 예정"
   ]
  },
  {
   "cell_type": "markdown",
   "id": "4d0d5c0f-0caa-4add-8b5a-8ac2cc5b1d12",
   "metadata": {},
   "source": [
    "## list 연산"
   ]
  },
  {
   "cell_type": "code",
   "execution_count": 36,
   "id": "0d3c9716-3c15-4d38-a4eb-690f98dfb187",
   "metadata": {},
   "outputs": [
    {
     "data": {
      "text/plain": [
       "3"
      ]
     },
     "execution_count": 36,
     "metadata": {},
     "output_type": "execute_result"
    }
   ],
   "source": [
    "num = [1,2,3,4,5]\n",
    "num[0] + num[1] # list 요소들 끼리의 합"
   ]
  },
  {
   "cell_type": "code",
   "execution_count": 37,
   "id": "2a73145e-1868-430b-ba76-e615fc470568",
   "metadata": {},
   "outputs": [
    {
     "data": {
      "text/plain": [
       "[1, 2, 3, 4, 5, 6, 7, 8]"
      ]
     },
     "execution_count": 37,
     "metadata": {},
     "output_type": "execute_result"
    }
   ],
   "source": [
    "# list끼리의 더하기 연산은 리스트안의 값들이 더해지는게 아니라 리스트가 하나로 합쳐진다.\n",
    "l1 = [1,2,3,4]\n",
    "l2 = [5,6,7,8]\n",
    "l1 + l2 "
   ]
  },
  {
   "cell_type": "code",
   "execution_count": 38,
   "id": "2e7efe3c-2a35-446d-a39b-df5f65a988ae",
   "metadata": {},
   "outputs": [
    {
     "data": {
      "text/plain": [
       "[1, 2, 3, 4, 1, 2, 3, 4, 1, 2, 3, 4]"
      ]
     },
     "execution_count": 38,
     "metadata": {},
     "output_type": "execute_result"
    }
   ],
   "source": [
    "# 문자열 연산과 비슷 같은 리스트가 세번 반복되서 출력\n",
    "l1 * 3 "
   ]
  },
  {
   "cell_type": "code",
   "execution_count": 39,
   "id": "cfcb52b9-1ca9-4c35-bcc9-adfab6dff487",
   "metadata": {},
   "outputs": [
    {
     "data": {
      "text/plain": [
       "[5, 6, 7, 8, 5, 6, 7, 8, 5, 6, 7, 8]"
      ]
     },
     "execution_count": 39,
     "metadata": {},
     "output_type": "execute_result"
    }
   ],
   "source": [
    "mat2 = [[1,2,3,4],\n",
    "        [5,6,7,8],\n",
    "        [9,10,11,12]]\n",
    "mat2[1] * 3 # 2중리스트도 똑같이 계산"
   ]
  },
  {
   "cell_type": "code",
   "execution_count": 40,
   "id": "05a662b9-6be1-46a7-893e-3b37a4cdc55a",
   "metadata": {},
   "outputs": [
    {
     "data": {
      "text/plain": [
       "18"
      ]
     },
     "execution_count": 40,
     "metadata": {},
     "output_type": "execute_result"
    }
   ],
   "source": [
    "mat2[1][1] * 3 # 리스트 하나의 index는 해당 변수형을 따름. "
   ]
  },
  {
   "cell_type": "markdown",
   "id": "f1a0593c-fab3-4609-be93-abee87e0e0a3",
   "metadata": {},
   "source": [
    "## list index 변경(변수처럼 사용)"
   ]
  },
  {
   "cell_type": "code",
   "execution_count": 44,
   "id": "a2ca59cf-460b-4d36-827b-5d2f46bb15d1",
   "metadata": {},
   "outputs": [
    {
     "data": {
      "text/plain": [
       "[100, 2, 3, 4]"
      ]
     },
     "execution_count": 44,
     "metadata": {},
     "output_type": "execute_result"
    }
   ],
   "source": [
    "# 하나의 index를 변경시킴\n",
    "l1[0] = 100\n",
    "l1"
   ]
  },
  {
   "cell_type": "code",
   "execution_count": 45,
   "id": "94cc410a-b6b2-4654-8219-603d2675e7ea",
   "metadata": {},
   "outputs": [
    {
     "data": {
      "text/plain": [
       "[100, 101, 102, 4]"
      ]
     },
     "execution_count": 45,
     "metadata": {},
     "output_type": "execute_result"
    }
   ],
   "source": [
    "# slicing + 내용 변경\n",
    "l1[1:3] = [101, 102]\n",
    "l1"
   ]
  },
  {
   "cell_type": "code",
   "execution_count": 46,
   "id": "f4e61783-8542-4173-bd70-e467d6b7d7f5",
   "metadata": {},
   "outputs": [
    {
     "data": {
      "text/plain": [
       "[100, 101, 102]"
      ]
     },
     "execution_count": 46,
     "metadata": {},
     "output_type": "execute_result"
    }
   ],
   "source": [
    "del l1[-1] # 해당 위치의 index 삭제\n",
    "l1"
   ]
  },
  {
   "cell_type": "markdown",
   "id": "3e868a77-f7d4-4f24-87ff-a5a457a61bf6",
   "metadata": {},
   "source": [
    "## list 관련 함수 사용\n",
    "* append\n",
    "* insert\n",
    "* remove\n",
    "* sort\n",
    "* index\n",
    "* pop\n",
    "* count"
   ]
  },
  {
   "cell_type": "markdown",
   "id": "f2501559-55e8-479f-bfdb-0d7fc4f18d5e",
   "metadata": {},
   "source": [
    "### append()"
   ]
  },
  {
   "cell_type": "code",
   "execution_count": 47,
   "id": "6556d9ae-0630-4a23-b4be-7a78d5bdfc9b",
   "metadata": {},
   "outputs": [
    {
     "data": {
      "text/plain": [
       "[1]"
      ]
     },
     "execution_count": 47,
     "metadata": {},
     "output_type": "execute_result"
    }
   ],
   "source": [
    "l = [] # 빈 리스트 생성\n",
    "l.append(1) # 추가\n",
    "l # 확인"
   ]
  },
  {
   "cell_type": "code",
   "execution_count": 48,
   "id": "fd7f1fe5-d613-4fd8-84ec-2d8da999f18f",
   "metadata": {},
   "outputs": [
    {
     "data": {
      "text/plain": [
       "[1, 2]"
      ]
     },
     "execution_count": 48,
     "metadata": {},
     "output_type": "execute_result"
    }
   ],
   "source": [
    "l.append(2) # 천천히 하나씩 뒤로 쌓아가듯이 더해진다.\n",
    "l"
   ]
  },
  {
   "cell_type": "code",
   "execution_count": 49,
   "id": "5d5b4c7b-e173-4dbe-9171-97eebce14365",
   "metadata": {},
   "outputs": [
    {
     "data": {
      "text/plain": [
       "[3, 1, 2]"
      ]
     },
     "execution_count": 49,
     "metadata": {},
     "output_type": "execute_result"
    }
   ],
   "source": [
    "# insert() : index에 요소 추가\n",
    "l.insert(0,3) # 0번째 위치에 3을 추가한다.\n",
    "l"
   ]
  },
  {
   "cell_type": "code",
   "execution_count": 50,
   "id": "728fed85-3e94-452c-81c1-9d0e9436f1ef",
   "metadata": {},
   "outputs": [
    {
     "data": {
      "text/plain": [
       "[3, 4, 1, 2]"
      ]
     },
     "execution_count": 50,
     "metadata": {},
     "output_type": "execute_result"
    }
   ],
   "source": [
    "l.insert(1,4) # 1번째 위치에 4를 추가한다.\n",
    "l"
   ]
  },
  {
   "cell_type": "markdown",
   "id": "00c1129f-b33c-42a3-84a6-89f22512d1b9",
   "metadata": {},
   "source": [
    "### remove()"
   ]
  },
  {
   "cell_type": "code",
   "execution_count": 51,
   "id": "fa3936f3-28ca-4347-904d-9300bcdce2e7",
   "metadata": {},
   "outputs": [
    {
     "data": {
      "text/plain": [
       "[3, 4, 1]"
      ]
     },
     "execution_count": 51,
     "metadata": {},
     "output_type": "execute_result"
    }
   ],
   "source": [
    "l.remove(2) # 2에 해당하는 값을 제거한다. \n",
    "l\n",
    "# 2가 없으면 에러발생."
   ]
  },
  {
   "cell_type": "markdown",
   "id": "6bf3bca5-a032-498d-8857-2ef5ff3bbb71",
   "metadata": {},
   "source": [
    "### sort()"
   ]
  },
  {
   "cell_type": "code",
   "execution_count": 53,
   "id": "32ec8e22-b779-49fc-b27d-dc5b04403b3e",
   "metadata": {},
   "outputs": [
    {
     "data": {
      "text/plain": [
       "[1, 3, 4]"
      ]
     },
     "execution_count": 53,
     "metadata": {},
     "output_type": "execute_result"
    }
   ],
   "source": [
    "l.sort()\n",
    "l # 오름차순으로 정렬"
   ]
  },
  {
   "cell_type": "code",
   "execution_count": 55,
   "id": "3fcdc025-a8d4-4a3f-bea4-8f774378ee1b",
   "metadata": {},
   "outputs": [
    {
     "ename": "TypeError",
     "evalue": "'<' not supported between instances of 'str' and 'int'",
     "output_type": "error",
     "traceback": [
      "\u001b[1;31m---------------------------------------------------------------------------\u001b[0m",
      "\u001b[1;31mTypeError\u001b[0m                                 Traceback (most recent call last)",
      "Input \u001b[1;32mIn [55]\u001b[0m, in \u001b[0;36m<cell line: 2>\u001b[1;34m()\u001b[0m\n\u001b[0;32m      1\u001b[0m l\u001b[38;5;241m.\u001b[39mappend(\u001b[38;5;124m'\u001b[39m\u001b[38;5;124ma\u001b[39m\u001b[38;5;124m'\u001b[39m)\n\u001b[1;32m----> 2\u001b[0m \u001b[43ml\u001b[49m\u001b[38;5;241;43m.\u001b[39;49m\u001b[43msort\u001b[49m\u001b[43m(\u001b[49m\u001b[43m)\u001b[49m\n\u001b[0;32m      3\u001b[0m l\n",
      "\u001b[1;31mTypeError\u001b[0m: '<' not supported between instances of 'str' and 'int'"
     ]
    }
   ],
   "source": [
    "l.append('a')\n",
    "l.sort()\n",
    "l\n",
    "# 문자형과 숫자는 정려하기가 안된다. # 오류 발생"
   ]
  },
  {
   "cell_type": "code",
   "execution_count": 60,
   "id": "efed7562-c293-4f74-8bf1-a699411cf273",
   "metadata": {},
   "outputs": [
    {
     "data": {
      "text/plain": [
       "[4, 3, 2, 1]"
      ]
     },
     "execution_count": 60,
     "metadata": {},
     "output_type": "execute_result"
    }
   ],
   "source": [
    "# 내림차순으로 정렬\n",
    "l = [1,2,3,4]\n",
    "l.sort(reverse=True)\n",
    "l # 원본이 바뀌는 방법"
   ]
  },
  {
   "cell_type": "code",
   "execution_count": 64,
   "id": "6945fc56-4eef-4126-ad68-d737118ab564",
   "metadata": {},
   "outputs": [
    {
     "name": "stdout",
     "output_type": "stream",
     "text": [
      "[1, 2, 3, 4]\n"
     ]
    },
    {
     "data": {
      "text/plain": [
       "[4, 3, 2, 1]"
      ]
     },
     "execution_count": 64,
     "metadata": {},
     "output_type": "execute_result"
    }
   ],
   "source": [
    "print(sorted(l)) # 원본이 바뀌지 않고 정렬된다.  \n",
    "l # 원본"
   ]
  },
  {
   "cell_type": "markdown",
   "id": "92394dc9-6bc8-4308-827e-b927ee189fd4",
   "metadata": {},
   "source": [
    "### index()"
   ]
  },
  {
   "cell_type": "code",
   "execution_count": 65,
   "id": "247cfdb9-0dee-4bc1-ad74-0a364ca20756",
   "metadata": {},
   "outputs": [
    {
     "data": {
      "text/plain": [
       "2"
      ]
     },
     "execution_count": 65,
     "metadata": {},
     "output_type": "execute_result"
    }
   ],
   "source": [
    "l = [1,2,3,4]\n",
    "l.index(3) # 해당 위치의 index 값을 반환한다."
   ]
  },
  {
   "cell_type": "markdown",
   "id": "9a57636f-3bcd-460e-be20-206a0abf3fda",
   "metadata": {},
   "source": [
    "### pop()"
   ]
  },
  {
   "cell_type": "code",
   "execution_count": 66,
   "id": "706cf22c-fc59-49be-aee3-8d69677dcebb",
   "metadata": {},
   "outputs": [
    {
     "name": "stdout",
     "output_type": "stream",
     "text": [
      "4\n"
     ]
    },
    {
     "data": {
      "text/plain": [
       "[1, 2, 3]"
      ]
     },
     "execution_count": 66,
     "metadata": {},
     "output_type": "execute_result"
    }
   ],
   "source": [
    "print(l.pop()) # 뒤에 자리에 있는 index를 꺼내고 그것을 지운다.\n",
    "l"
   ]
  },
  {
   "cell_type": "markdown",
   "id": "86f28bb7-a5b0-4346-b733-3ccea774a0b1",
   "metadata": {},
   "source": [
    "### count()"
   ]
  },
  {
   "cell_type": "code",
   "execution_count": 68,
   "id": "2b7cd649-b70e-4729-8f59-3ebae8773b35",
   "metadata": {},
   "outputs": [
    {
     "data": {
      "text/plain": [
       "5"
      ]
     },
     "execution_count": 68,
     "metadata": {},
     "output_type": "execute_result"
    }
   ],
   "source": [
    "# list안에 몇개가 들어있는지 알수 있는 함수\n",
    "l =[1,1,1,2,3,4,2,33,2,1,3,21,2,3,2,1]\n",
    "l.count(1)"
   ]
  },
  {
   "cell_type": "markdown",
   "id": "19227d8c-aeef-49ee-8a54-afe2db0fe1cc",
   "metadata": {},
   "source": [
    "## Quiz\n",
    "1. `list1 = [13, 53, 24, 35, 38]`를 큰 수부터 작은수로 정렬하시오.  \n",
    "2. `list2 = [\"Hello\", \"My\", \"Friends\"]`를 `\"Hello My Friends\"`라는 문자열로 출력하시오.  \n",
    "3. `\"DP, 오징어게임, 슬기로운 의사생활\"`을 `Netflex_list`라는 변수에 리스트로 만들어보세요.  \n",
    "4. 위의 `Netflex_list`에 `\"호텔 델루나\"`를 추가해보세요.  \n",
    "5. `\"갯마을 차차차\"`를 `netflix_list` 맨 앞에 추가해보세요.  \n",
    "6. `\"DP`\"를 삭제하고 그 위치에 `\"검은태양\"`을 추가해보세요.  \n",
    "7. `list3 = [294, 185, 1384, 1282, 375, 283]`의 최대, 최소, 합, 평균을 구하시오.  \n",
    "8. `str1 = \"naver,sk,google,kakao\"`에서 각각의 회사명을 `company_list`에 넣고 오름차순으로 정렬하세요  "
   ]
  },
  {
   "cell_type": "code",
   "execution_count": 69,
   "id": "7c161d94-4b43-4e07-ab27-501232db3280",
   "metadata": {},
   "outputs": [
    {
     "data": {
      "text/plain": [
       "[53, 38, 35, 24, 13]"
      ]
     },
     "execution_count": 69,
     "metadata": {},
     "output_type": "execute_result"
    }
   ],
   "source": [
    "# Quiz 1\n",
    "list1 = [13, 53, 24, 35, 38]\n",
    "list1.sort(reverse = True)\n",
    "list1"
   ]
  },
  {
   "cell_type": "code",
   "execution_count": 70,
   "id": "47fd3e31-0dee-4fd4-b9e5-0802baef7a20",
   "metadata": {},
   "outputs": [
    {
     "data": {
      "text/plain": [
       "'Hello My Friends'"
      ]
     },
     "execution_count": 70,
     "metadata": {},
     "output_type": "execute_result"
    }
   ],
   "source": [
    "# Quiz 2\n",
    "list2 = [\"Hello\", \"My\", \"Friends\"]\n",
    "str1_list2 = list2[0] + \" \"  + list2[1] + \" \" + list2[2]\n",
    "str1_list2\n",
    "\n",
    "# another Method\n",
    "\" \".join(list2) # join함수 사용"
   ]
  },
  {
   "cell_type": "code",
   "execution_count": 76,
   "id": "d84534ed-317d-4f0f-a1b2-523ed27f449a",
   "metadata": {},
   "outputs": [
    {
     "data": {
      "text/plain": [
       "['DP', '오징어게임', '슬기로운 의사생활']"
      ]
     },
     "execution_count": 76,
     "metadata": {},
     "output_type": "execute_result"
    }
   ],
   "source": [
    "# Quiz3\n",
    "Netflex_list =[\"DP\",\"오징어게임\",\"슬기로운 의사생활\"]\n",
    "Netflex_list"
   ]
  },
  {
   "cell_type": "code",
   "execution_count": 77,
   "id": "e003aa77-871b-4520-95c1-a301dc00aa0e",
   "metadata": {},
   "outputs": [
    {
     "data": {
      "text/plain": [
       "['DP', '오징어게임', '슬기로운 의사생활', '호텔 델루나']"
      ]
     },
     "execution_count": 77,
     "metadata": {},
     "output_type": "execute_result"
    }
   ],
   "source": [
    "# Quiz4\n",
    "Netflex_list.append(\"호텔 델루나\")\n",
    "Netflex_list"
   ]
  },
  {
   "cell_type": "code",
   "execution_count": 78,
   "id": "b1c5ed69-3b2d-4585-9bb9-7e32ea7907d7",
   "metadata": {},
   "outputs": [
    {
     "data": {
      "text/plain": [
       "['갯마을 차차차', 'DP', '오징어게임', '슬기로운 의사생활', '호텔 델루나']"
      ]
     },
     "execution_count": 78,
     "metadata": {},
     "output_type": "execute_result"
    }
   ],
   "source": [
    "# Quiz5\n",
    "Netflex_list.insert(0, \"갯마을 차차차\")\n",
    "Netflex_list"
   ]
  },
  {
   "cell_type": "code",
   "execution_count": 79,
   "id": "780137a3-32d7-4ae4-aa25-d502209d6a93",
   "metadata": {},
   "outputs": [
    {
     "data": {
      "text/plain": [
       "['갯마을 차차차', '검은태양', '오징어게임', '슬기로운 의사생활', '호텔 델루나']"
      ]
     },
     "execution_count": 79,
     "metadata": {},
     "output_type": "execute_result"
    }
   ],
   "source": [
    "# Quiz6\n",
    "index_dp = Netflex_list.index(\"DP\")\n",
    "Netflex_list.remove(\"DP\")\n",
    "Netflex_list.insert(index_dp, \"검은태양\")\n",
    "Netflex_list"
   ]
  },
  {
   "cell_type": "code",
   "execution_count": 80,
   "id": "1913fc48-10dd-4a1c-ae38-d944283a3ed4",
   "metadata": {},
   "outputs": [
    {
     "name": "stdout",
     "output_type": "stream",
     "text": [
      "최대값 : 1384\n",
      "최소값 : 185\n",
      "합 : 3803\n",
      "평균값 : 633.8333333333334\n"
     ]
    }
   ],
   "source": [
    "# Quiz7\n",
    "list3 = [294, 185, 1384, 1282, 375, 283]\n",
    "print(f'최대값 : {max(list3)}')\n",
    "print(f'최소값 : {min(list3)}')\n",
    "print(f'합 : {sum(list3)}')\n",
    "print(f'평균값 : {sum(list3)/len(list3)}')"
   ]
  },
  {
   "cell_type": "code",
   "execution_count": 81,
   "id": "60c3cffa-5d81-48ec-9066-b71f0ac3b377",
   "metadata": {},
   "outputs": [
    {
     "name": "stdout",
     "output_type": "stream",
     "text": [
      "['naver', 'sk', 'google', 'kakao']\n",
      "['google', 'kakao', 'naver', 'sk']\n"
     ]
    }
   ],
   "source": [
    "# Quiz8\n",
    "str1 = \"naver,sk,google,kakao\"\n",
    "company_list = str1.split(',')\n",
    "print(company_list)\n",
    "company_list.sort()\n",
    "print(company_list)"
   ]
  }
 ],
 "metadata": {
  "kernelspec": {
   "display_name": "Python 3 (ipykernel)",
   "language": "python",
   "name": "python3"
  },
  "language_info": {
   "codemirror_mode": {
    "name": "ipython",
    "version": 3
   },
   "file_extension": ".py",
   "mimetype": "text/x-python",
   "name": "python",
   "nbconvert_exporter": "python",
   "pygments_lexer": "ipython3",
   "version": "3.9.12"
  }
 },
 "nbformat": 4,
 "nbformat_minor": 5
}
