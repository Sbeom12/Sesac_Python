{
 "cells": [
  {
   "cell_type": "markdown",
   "id": "01d27d80-5d5b-4eb1-94b2-beaa770faa69",
   "metadata": {},
   "source": [
    "# Simple test of Pandas\n",
    "* download test.csv file and try the problem below!"
   ]
  },
  {
   "cell_type": "code",
   "execution_count": 2,
   "id": "f1443948-dbd9-463f-8d41-cdcdf1ccf53f",
   "metadata": {},
   "outputs": [],
   "source": [
    "# import pandas\n",
    "import pandas as pd"
   ]
  },
  {
   "cell_type": "code",
   "execution_count": 3,
   "id": "b7ec4727-0b48-427c-b226-58b88969fb5d",
   "metadata": {},
   "outputs": [],
   "source": [
    "Data = pd.read_csv('test.csv')"
   ]
  },
  {
   "cell_type": "code",
   "execution_count": 4,
   "id": "9214dcb5-1ca6-4fb5-b33a-94d4a39a4741",
   "metadata": {},
   "outputs": [
    {
     "name": "stdout",
     "output_type": "stream",
     "text": [
      "<class 'pandas.core.frame.DataFrame'>\n",
      "RangeIndex: 1470 entries, 0 to 1469\n",
      "Data columns (total 35 columns):\n",
      " #   Column                    Non-Null Count  Dtype \n",
      "---  ------                    --------------  ----- \n",
      " 0   Age                       1470 non-null   int64 \n",
      " 1   Attrition                 1470 non-null   object\n",
      " 2   BusinessTravel            1470 non-null   object\n",
      " 3   DailyRate                 1470 non-null   int64 \n",
      " 4   Department                1470 non-null   object\n",
      " 5   DistanceFromHome          1470 non-null   int64 \n",
      " 6   Education                 1470 non-null   int64 \n",
      " 7   EducationField            1470 non-null   object\n",
      " 8   EmployeeCount             1470 non-null   int64 \n",
      " 9   EmployeeNumber            1470 non-null   int64 \n",
      " 10  EnvironmentSatisfaction   1470 non-null   int64 \n",
      " 11  Gender                    1470 non-null   object\n",
      " 12  HourlyRate                1470 non-null   int64 \n",
      " 13  JobInvolvement            1470 non-null   int64 \n",
      " 14  JobLevel                  1470 non-null   int64 \n",
      " 15  JobRole                   1470 non-null   object\n",
      " 16  JobSatisfaction           1470 non-null   int64 \n",
      " 17  MaritalStatus             1470 non-null   object\n",
      " 18  MonthlyIncome             1470 non-null   int64 \n",
      " 19  MonthlyRate               1470 non-null   int64 \n",
      " 20  NumCompaniesWorked        1470 non-null   int64 \n",
      " 21  Over18                    1470 non-null   object\n",
      " 22  OverTime                  1470 non-null   object\n",
      " 23  PercentSalaryHike         1470 non-null   int64 \n",
      " 24  PerformanceRating         1470 non-null   int64 \n",
      " 25  RelationshipSatisfaction  1470 non-null   int64 \n",
      " 26  StandardHours             1470 non-null   int64 \n",
      " 27  StockOptionLevel          1470 non-null   int64 \n",
      " 28  TotalWorkingYears         1470 non-null   int64 \n",
      " 29  TrainingTimesLastYear     1470 non-null   int64 \n",
      " 30  WorkLifeBalance           1470 non-null   int64 \n",
      " 31  YearsAtCompany            1470 non-null   int64 \n",
      " 32  YearsInCurrentRole        1470 non-null   int64 \n",
      " 33  YearsSinceLastPromotion   1470 non-null   int64 \n",
      " 34  YearsWithCurrManager      1470 non-null   int64 \n",
      "dtypes: int64(26), object(9)\n",
      "memory usage: 402.1+ KB\n"
     ]
    }
   ],
   "source": [
    "# check the Data \n",
    "Data.info()"
   ]
  },
  {
   "cell_type": "code",
   "execution_count": 6,
   "id": "8bc689a1-a93d-42b7-8768-57d12d117242",
   "metadata": {},
   "outputs": [
    {
     "data": {
      "text/html": [
       "<div>\n",
       "<style scoped>\n",
       "    .dataframe tbody tr th:only-of-type {\n",
       "        vertical-align: middle;\n",
       "    }\n",
       "\n",
       "    .dataframe tbody tr th {\n",
       "        vertical-align: top;\n",
       "    }\n",
       "\n",
       "    .dataframe thead th {\n",
       "        text-align: right;\n",
       "    }\n",
       "</style>\n",
       "<table border=\"1\" class=\"dataframe\">\n",
       "  <thead>\n",
       "    <tr style=\"text-align: right;\">\n",
       "      <th></th>\n",
       "      <th>Age</th>\n",
       "      <th>Attrition</th>\n",
       "      <th>BusinessTravel</th>\n",
       "      <th>DailyRate</th>\n",
       "      <th>Department</th>\n",
       "      <th>DistanceFromHome</th>\n",
       "      <th>Education</th>\n",
       "      <th>EducationField</th>\n",
       "      <th>EmployeeCount</th>\n",
       "      <th>EmployeeNumber</th>\n",
       "      <th>...</th>\n",
       "      <th>RelationshipSatisfaction</th>\n",
       "      <th>StandardHours</th>\n",
       "      <th>StockOptionLevel</th>\n",
       "      <th>TotalWorkingYears</th>\n",
       "      <th>TrainingTimesLastYear</th>\n",
       "      <th>WorkLifeBalance</th>\n",
       "      <th>YearsAtCompany</th>\n",
       "      <th>YearsInCurrentRole</th>\n",
       "      <th>YearsSinceLastPromotion</th>\n",
       "      <th>YearsWithCurrManager</th>\n",
       "    </tr>\n",
       "  </thead>\n",
       "  <tbody>\n",
       "    <tr>\n",
       "      <th>0</th>\n",
       "      <td>41</td>\n",
       "      <td>Yes</td>\n",
       "      <td>Travel_Rarely</td>\n",
       "      <td>1102</td>\n",
       "      <td>Sales</td>\n",
       "      <td>1</td>\n",
       "      <td>2</td>\n",
       "      <td>Life Sciences</td>\n",
       "      <td>1</td>\n",
       "      <td>1</td>\n",
       "      <td>...</td>\n",
       "      <td>1</td>\n",
       "      <td>80</td>\n",
       "      <td>0</td>\n",
       "      <td>8</td>\n",
       "      <td>0</td>\n",
       "      <td>1</td>\n",
       "      <td>6</td>\n",
       "      <td>4</td>\n",
       "      <td>0</td>\n",
       "      <td>5</td>\n",
       "    </tr>\n",
       "  </tbody>\n",
       "</table>\n",
       "<p>1 rows × 35 columns</p>\n",
       "</div>"
      ],
      "text/plain": [
       "   Age Attrition BusinessTravel  DailyRate Department  DistanceFromHome  \\\n",
       "0   41       Yes  Travel_Rarely       1102      Sales                 1   \n",
       "\n",
       "   Education EducationField  EmployeeCount  EmployeeNumber  ...  \\\n",
       "0          2  Life Sciences              1               1  ...   \n",
       "\n",
       "   RelationshipSatisfaction StandardHours  StockOptionLevel  \\\n",
       "0                         1            80                 0   \n",
       "\n",
       "   TotalWorkingYears  TrainingTimesLastYear WorkLifeBalance  YearsAtCompany  \\\n",
       "0                  8                      0               1               6   \n",
       "\n",
       "  YearsInCurrentRole  YearsSinceLastPromotion  YearsWithCurrManager  \n",
       "0                  4                        0                     5  \n",
       "\n",
       "[1 rows x 35 columns]"
      ]
     },
     "execution_count": 6,
     "metadata": {},
     "output_type": "execute_result"
    }
   ],
   "source": [
    "# Test Just one data\n",
    "Data.head(1)"
   ]
  },
  {
   "cell_type": "markdown",
   "id": "a6d77d09-5b42-4de1-add3-67f977a04eb1",
   "metadata": {
    "tags": []
   },
   "source": [
    "## Simple Analysis\n",
    "* Different types of datas\n",
    "* There are 35 columns\n",
    "* There are 1470 rows"
   ]
  },
  {
   "cell_type": "markdown",
   "id": "ee799eb1-f52e-493f-a22b-8fd23f050de5",
   "metadata": {},
   "source": [
    "## Problem 1\n",
    "* Count the people who are Gender is `Female` and MonthlyRate is over `10,000`"
   ]
  },
  {
   "cell_type": "code",
   "execution_count": 7,
   "id": "eba2967e-252c-4529-87dc-a71ab92d238d",
   "metadata": {},
   "outputs": [
    {
     "data": {
      "text/plain": [
       "Male      882\n",
       "Female    588\n",
       "Name: Gender, dtype: int64"
      ]
     },
     "execution_count": 7,
     "metadata": {},
     "output_type": "execute_result"
    }
   ],
   "source": [
    "# check the value of Gender data \n",
    "Data.Gender.value_counts()"
   ]
  },
  {
   "cell_type": "code",
   "execution_count": 8,
   "id": "27e61943-9ce4-43c6-9a5c-8ea95ab7bd5e",
   "metadata": {},
   "outputs": [
    {
     "data": {
      "text/plain": [
       "4223     3\n",
       "9150     3\n",
       "9558     2\n",
       "12858    2\n",
       "22074    2\n",
       "        ..\n",
       "14561    1\n",
       "2671     1\n",
       "5718     1\n",
       "11757    1\n",
       "10228    1\n",
       "Name: MonthlyRate, Length: 1427, dtype: int64"
      ]
     },
     "execution_count": 8,
     "metadata": {},
     "output_type": "execute_result"
    }
   ],
   "source": [
    "# check the value of MonthlyRate data\n",
    "Data.MonthlyRate.value_counts()"
   ]
  },
  {
   "cell_type": "code",
   "execution_count": 10,
   "id": "5bcb40fa-2af1-4bb3-aca2-bb8d8a05b160",
   "metadata": {},
   "outputs": [
    {
     "data": {
      "text/plain": [
       "403"
      ]
     },
     "execution_count": 10,
     "metadata": {},
     "output_type": "execute_result"
    }
   ],
   "source": [
    "# Answer (403)\n",
    "len(Data[(Data['Gender'] == 'Female') & (Data['MonthlyRate'] >= 10000)])"
   ]
  },
  {
   "cell_type": "markdown",
   "id": "0456910a-b232-44b0-b76d-37b2a24440e9",
   "metadata": {},
   "source": [
    "## Problem 2\n",
    "* Count the people who are EducationField is `Medical` and JobSatisfaction is over `3`"
   ]
  },
  {
   "cell_type": "code",
   "execution_count": 14,
   "id": "58a8acf7-9771-487d-b1e2-f3ec76815231",
   "metadata": {},
   "outputs": [
    {
     "data": {
      "text/plain": [
       "Life Sciences       606\n",
       "Medical             464\n",
       "Marketing           159\n",
       "Technical Degree    132\n",
       "Other                82\n",
       "Human Resources      27\n",
       "Name: EducationField, dtype: int64"
      ]
     },
     "execution_count": 14,
     "metadata": {},
     "output_type": "execute_result"
    }
   ],
   "source": [
    "# check the value of EducationField data \n",
    "Data.EducationField.value_counts()"
   ]
  },
  {
   "cell_type": "code",
   "execution_count": 15,
   "id": "91620692-7bb2-46e8-a032-b8ee00548983",
   "metadata": {},
   "outputs": [
    {
     "data": {
      "text/plain": [
       "4    459\n",
       "3    442\n",
       "1    289\n",
       "2    280\n",
       "Name: JobSatisfaction, dtype: int64"
      ]
     },
     "execution_count": 15,
     "metadata": {},
     "output_type": "execute_result"
    }
   ],
   "source": [
    "# check the value of JobSatisfaction data \n",
    "Data.JobSatisfaction.value_counts()"
   ]
  },
  {
   "cell_type": "code",
   "execution_count": 16,
   "id": "61cbb9f9-9f85-4832-b972-9d99c7f5400a",
   "metadata": {},
   "outputs": [
    {
     "data": {
      "text/plain": [
       "282"
      ]
     },
     "execution_count": 16,
     "metadata": {},
     "output_type": "execute_result"
    }
   ],
   "source": [
    "# Answer (282)\n",
    "len(Data[(Data['EducationField'] == 'Medical') & (Data['JobSatisfaction'] >= 3)])"
   ]
  },
  {
   "cell_type": "code",
   "execution_count": null,
   "id": "979433ea-b493-489b-9823-a6b61111261c",
   "metadata": {},
   "outputs": [],
   "source": []
  }
 ],
 "metadata": {
  "kernelspec": {
   "display_name": "Python 3 (ipykernel)",
   "language": "python",
   "name": "python3"
  },
  "language_info": {
   "codemirror_mode": {
    "name": "ipython",
    "version": 3
   },
   "file_extension": ".py",
   "mimetype": "text/x-python",
   "name": "python",
   "nbconvert_exporter": "python",
   "pygments_lexer": "ipython3",
   "version": "3.9.7"
  }
 },
 "nbformat": 4,
 "nbformat_minor": 5
}
