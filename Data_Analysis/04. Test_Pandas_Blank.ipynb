{
 "cells": [
  {
   "cell_type": "markdown",
   "id": "052f67c4-1dda-4bea-91ce-57355b7156de",
   "metadata": {},
   "source": [
    "# Simple test of Pandas\n",
    "* Download test.csv file and try the problem below!"
   ]
  },
  {
   "cell_type": "code",
   "execution_count": 3,
   "id": "3fc73a89-5d9e-4f80-97cc-58ffac7aee16",
   "metadata": {},
   "outputs": [],
   "source": [
    "# import pandas"
   ]
  },
  {
   "cell_type": "code",
   "execution_count": 6,
   "id": "34bd934c-f456-4922-bbce-2c223ca8444b",
   "metadata": {},
   "outputs": [],
   "source": [
    "# import the csv file as Data"
   ]
  },
  {
   "cell_type": "code",
   "execution_count": 5,
   "id": "4061b29e-55ac-4eaa-9473-fbf53e9c1c43",
   "metadata": {},
   "outputs": [],
   "source": [
    "# check the Data "
   ]
  },
  {
   "cell_type": "code",
   "execution_count": null,
   "id": "9adc7d01-afb2-491b-ac06-b061c8ce736c",
   "metadata": {},
   "outputs": [],
   "source": [
    "# check Just one data"
   ]
  },
  {
   "cell_type": "markdown",
   "id": "1aedc5a6-7a52-4608-963d-13174260e677",
   "metadata": {},
   "source": [
    "## Simple Analysis\n",
    "* Analysis the Data"
   ]
  },
  {
   "cell_type": "markdown",
   "id": "523f9ad0-f8b5-4d27-8767-8c83003fe78f",
   "metadata": {},
   "source": [
    "## Problem 1\n",
    "* Count the people who are Gender is `Female` and MonthlyRate is over `10,000`"
   ]
  },
  {
   "cell_type": "code",
   "execution_count": 7,
   "id": "ae10ab69-ff62-4a03-bf95-3d4c462d0ed0",
   "metadata": {},
   "outputs": [],
   "source": [
    "# Hint 1\n",
    "# check the value of Gender data "
   ]
  },
  {
   "cell_type": "code",
   "execution_count": 9,
   "id": "ed9e1b7a-e487-4081-8d8a-bc6721e2629b",
   "metadata": {},
   "outputs": [],
   "source": [
    "# Hint 2\n",
    "# check the value of MonthlyRate data"
   ]
  },
  {
   "cell_type": "code",
   "execution_count": 10,
   "id": "de745b53-931d-4797-9d7a-64e9bdad5618",
   "metadata": {},
   "outputs": [],
   "source": [
    "# Answer (403)"
   ]
  },
  {
   "cell_type": "markdown",
   "id": "8c6b470b-00b7-442c-ab48-96dee3015c01",
   "metadata": {},
   "source": [
    "## Problem 2\n",
    "* Count the people who are EducationField is `Medical` and JobSatisfaction is over `3`"
   ]
  },
  {
   "cell_type": "code",
   "execution_count": 12,
   "id": "8eb44e6a-25c0-499c-a3b7-d0bae847e583",
   "metadata": {},
   "outputs": [],
   "source": [
    "# Hint 1\n",
    "# check the value of EducationField data "
   ]
  },
  {
   "cell_type": "code",
   "execution_count": 13,
   "id": "86923971-bc56-4354-9096-3cd108202865",
   "metadata": {},
   "outputs": [],
   "source": [
    "# Hint 2\n",
    "# check the value of JobSatisfaction data "
   ]
  },
  {
   "cell_type": "code",
   "execution_count": 14,
   "id": "5b09f737-dac7-40d7-a68e-52c1d15f52bb",
   "metadata": {},
   "outputs": [],
   "source": [
    "# Answer (282)"
   ]
  }
 ],
 "metadata": {
  "kernelspec": {
   "display_name": "Python 3 (ipykernel)",
   "language": "python",
   "name": "python3"
  },
  "language_info": {
   "codemirror_mode": {
    "name": "ipython",
    "version": 3
   },
   "file_extension": ".py",
   "mimetype": "text/x-python",
   "name": "python",
   "nbconvert_exporter": "python",
   "pygments_lexer": "ipython3",
   "version": "3.9.7"
  }
 },
 "nbformat": 4,
 "nbformat_minor": 5
}
